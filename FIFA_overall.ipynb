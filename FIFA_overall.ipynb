{
 "cells": [
  {
   "cell_type": "code",
   "execution_count": 1,
   "metadata": {},
   "outputs": [],
   "source": [
    "import numpy as np\n",
    "import pandas as pd\n",
    "import seaborn as sns\n",
    "import matplotlib.pyplot as plt\n",
    "import plotly.graph_objects as go\n",
    "pd.set_option(\"display.max_columns\",500)\n",
    "pd.set_option(\"display.max_rows\",500)\n",
    "%matplotlib inline\n",
    "sns.set(style=\"darkgrid\")"
   ]
  },
  {
   "cell_type": "code",
   "execution_count": 2,
   "metadata": {},
   "outputs": [],
   "source": [
    "df = pd.read_csv('FIFA_Dataset.csv')"
   ]
  },
  {
   "cell_type": "code",
   "execution_count": 3,
   "metadata": {},
   "outputs": [
    {
     "data": {
      "text/html": [
       "<div>\n",
       "<style scoped>\n",
       "    .dataframe tbody tr th:only-of-type {\n",
       "        vertical-align: middle;\n",
       "    }\n",
       "\n",
       "    .dataframe tbody tr th {\n",
       "        vertical-align: top;\n",
       "    }\n",
       "\n",
       "    .dataframe thead th {\n",
       "        text-align: right;\n",
       "    }\n",
       "</style>\n",
       "<table border=\"1\" class=\"dataframe\">\n",
       "  <thead>\n",
       "    <tr style=\"text-align: right;\">\n",
       "      <th></th>\n",
       "      <th>Unnamed: 0</th>\n",
       "      <th>ID</th>\n",
       "      <th>Name</th>\n",
       "      <th>Age</th>\n",
       "      <th>Photo</th>\n",
       "      <th>Nationality</th>\n",
       "      <th>Flag</th>\n",
       "      <th>Overall</th>\n",
       "      <th>Potential</th>\n",
       "      <th>Club</th>\n",
       "      <th>Club Logo</th>\n",
       "      <th>Value</th>\n",
       "      <th>Wage</th>\n",
       "      <th>Special</th>\n",
       "      <th>Preferred Foot</th>\n",
       "      <th>International Reputation</th>\n",
       "      <th>Weak Foot</th>\n",
       "      <th>Skill Moves</th>\n",
       "      <th>Work Rate</th>\n",
       "      <th>Body Type</th>\n",
       "      <th>Real Face</th>\n",
       "      <th>Position</th>\n",
       "      <th>Jersey Number</th>\n",
       "      <th>Joined</th>\n",
       "      <th>Loaned From</th>\n",
       "      <th>Contract Valid Until</th>\n",
       "      <th>Height</th>\n",
       "      <th>Weight</th>\n",
       "      <th>LS</th>\n",
       "      <th>ST</th>\n",
       "      <th>RS</th>\n",
       "      <th>LW</th>\n",
       "      <th>LF</th>\n",
       "      <th>CF</th>\n",
       "      <th>RF</th>\n",
       "      <th>RW</th>\n",
       "      <th>LAM</th>\n",
       "      <th>CAM</th>\n",
       "      <th>RAM</th>\n",
       "      <th>LM</th>\n",
       "      <th>LCM</th>\n",
       "      <th>CM</th>\n",
       "      <th>RCM</th>\n",
       "      <th>RM</th>\n",
       "      <th>LWB</th>\n",
       "      <th>LDM</th>\n",
       "      <th>CDM</th>\n",
       "      <th>RDM</th>\n",
       "      <th>RWB</th>\n",
       "      <th>LB</th>\n",
       "      <th>LCB</th>\n",
       "      <th>CB</th>\n",
       "      <th>RCB</th>\n",
       "      <th>RB</th>\n",
       "      <th>Crossing</th>\n",
       "      <th>Finishing</th>\n",
       "      <th>HeadingAccuracy</th>\n",
       "      <th>ShortPassing</th>\n",
       "      <th>Volleys</th>\n",
       "      <th>Dribbling</th>\n",
       "      <th>Curve</th>\n",
       "      <th>FKAccuracy</th>\n",
       "      <th>LongPassing</th>\n",
       "      <th>BallControl</th>\n",
       "      <th>Acceleration</th>\n",
       "      <th>SprintSpeed</th>\n",
       "      <th>Agility</th>\n",
       "      <th>Reactions</th>\n",
       "      <th>Balance</th>\n",
       "      <th>ShotPower</th>\n",
       "      <th>Jumping</th>\n",
       "      <th>Stamina</th>\n",
       "      <th>Strength</th>\n",
       "      <th>LongShots</th>\n",
       "      <th>Aggression</th>\n",
       "      <th>Interceptions</th>\n",
       "      <th>Positioning</th>\n",
       "      <th>Vision</th>\n",
       "      <th>Penalties</th>\n",
       "      <th>Composure</th>\n",
       "      <th>Marking</th>\n",
       "      <th>StandingTackle</th>\n",
       "      <th>SlidingTackle</th>\n",
       "      <th>GKDiving</th>\n",
       "      <th>GKHandling</th>\n",
       "      <th>GKKicking</th>\n",
       "      <th>GKPositioning</th>\n",
       "      <th>GKReflexes</th>\n",
       "      <th>Release Clause</th>\n",
       "    </tr>\n",
       "  </thead>\n",
       "  <tbody>\n",
       "    <tr>\n",
       "      <th>0</th>\n",
       "      <td>0</td>\n",
       "      <td>158023</td>\n",
       "      <td>L. Messi</td>\n",
       "      <td>31</td>\n",
       "      <td>https://cdn.sofifa.org/players/4/19/158023.png</td>\n",
       "      <td>Argentina</td>\n",
       "      <td>https://cdn.sofifa.org/flags/52.png</td>\n",
       "      <td>94</td>\n",
       "      <td>94</td>\n",
       "      <td>FC Barcelona</td>\n",
       "      <td>https://cdn.sofifa.org/teams/2/light/241.png</td>\n",
       "      <td>€110.5M</td>\n",
       "      <td>€565K</td>\n",
       "      <td>2202</td>\n",
       "      <td>Left</td>\n",
       "      <td>5.0</td>\n",
       "      <td>4.0</td>\n",
       "      <td>4.0</td>\n",
       "      <td>Medium/ Medium</td>\n",
       "      <td>Messi</td>\n",
       "      <td>Yes</td>\n",
       "      <td>RF</td>\n",
       "      <td>10.0</td>\n",
       "      <td>Jul 1, 2004</td>\n",
       "      <td>NaN</td>\n",
       "      <td>2021</td>\n",
       "      <td>5'7</td>\n",
       "      <td>159lbs</td>\n",
       "      <td>88+2</td>\n",
       "      <td>88+2</td>\n",
       "      <td>88+2</td>\n",
       "      <td>92+2</td>\n",
       "      <td>93+2</td>\n",
       "      <td>93+2</td>\n",
       "      <td>93+2</td>\n",
       "      <td>92+2</td>\n",
       "      <td>93+2</td>\n",
       "      <td>93+2</td>\n",
       "      <td>93+2</td>\n",
       "      <td>91+2</td>\n",
       "      <td>84+2</td>\n",
       "      <td>84+2</td>\n",
       "      <td>84+2</td>\n",
       "      <td>91+2</td>\n",
       "      <td>64+2</td>\n",
       "      <td>61+2</td>\n",
       "      <td>61+2</td>\n",
       "      <td>61+2</td>\n",
       "      <td>64+2</td>\n",
       "      <td>59+2</td>\n",
       "      <td>47+2</td>\n",
       "      <td>47+2</td>\n",
       "      <td>47+2</td>\n",
       "      <td>59+2</td>\n",
       "      <td>84.0</td>\n",
       "      <td>95.0</td>\n",
       "      <td>70.0</td>\n",
       "      <td>90.0</td>\n",
       "      <td>86.0</td>\n",
       "      <td>97.0</td>\n",
       "      <td>93.0</td>\n",
       "      <td>94.0</td>\n",
       "      <td>87.0</td>\n",
       "      <td>96.0</td>\n",
       "      <td>91.0</td>\n",
       "      <td>86.0</td>\n",
       "      <td>91.0</td>\n",
       "      <td>95.0</td>\n",
       "      <td>95.0</td>\n",
       "      <td>85.0</td>\n",
       "      <td>68.0</td>\n",
       "      <td>72.0</td>\n",
       "      <td>59.0</td>\n",
       "      <td>94.0</td>\n",
       "      <td>48.0</td>\n",
       "      <td>22.0</td>\n",
       "      <td>94.0</td>\n",
       "      <td>94.0</td>\n",
       "      <td>75.0</td>\n",
       "      <td>96.0</td>\n",
       "      <td>33.0</td>\n",
       "      <td>28.0</td>\n",
       "      <td>26.0</td>\n",
       "      <td>6.0</td>\n",
       "      <td>11.0</td>\n",
       "      <td>15.0</td>\n",
       "      <td>14.0</td>\n",
       "      <td>8.0</td>\n",
       "      <td>€226.5M</td>\n",
       "    </tr>\n",
       "    <tr>\n",
       "      <th>1</th>\n",
       "      <td>1</td>\n",
       "      <td>20801</td>\n",
       "      <td>Cristiano Ronaldo</td>\n",
       "      <td>33</td>\n",
       "      <td>https://cdn.sofifa.org/players/4/19/20801.png</td>\n",
       "      <td>Portugal</td>\n",
       "      <td>https://cdn.sofifa.org/flags/38.png</td>\n",
       "      <td>94</td>\n",
       "      <td>94</td>\n",
       "      <td>Juventus</td>\n",
       "      <td>https://cdn.sofifa.org/teams/2/light/45.png</td>\n",
       "      <td>€77M</td>\n",
       "      <td>€405K</td>\n",
       "      <td>2228</td>\n",
       "      <td>Right</td>\n",
       "      <td>5.0</td>\n",
       "      <td>4.0</td>\n",
       "      <td>5.0</td>\n",
       "      <td>High/ Low</td>\n",
       "      <td>C. Ronaldo</td>\n",
       "      <td>Yes</td>\n",
       "      <td>ST</td>\n",
       "      <td>7.0</td>\n",
       "      <td>Jul 10, 2018</td>\n",
       "      <td>NaN</td>\n",
       "      <td>2022</td>\n",
       "      <td>6'2</td>\n",
       "      <td>183lbs</td>\n",
       "      <td>91+3</td>\n",
       "      <td>91+3</td>\n",
       "      <td>91+3</td>\n",
       "      <td>89+3</td>\n",
       "      <td>90+3</td>\n",
       "      <td>90+3</td>\n",
       "      <td>90+3</td>\n",
       "      <td>89+3</td>\n",
       "      <td>88+3</td>\n",
       "      <td>88+3</td>\n",
       "      <td>88+3</td>\n",
       "      <td>88+3</td>\n",
       "      <td>81+3</td>\n",
       "      <td>81+3</td>\n",
       "      <td>81+3</td>\n",
       "      <td>88+3</td>\n",
       "      <td>65+3</td>\n",
       "      <td>61+3</td>\n",
       "      <td>61+3</td>\n",
       "      <td>61+3</td>\n",
       "      <td>65+3</td>\n",
       "      <td>61+3</td>\n",
       "      <td>53+3</td>\n",
       "      <td>53+3</td>\n",
       "      <td>53+3</td>\n",
       "      <td>61+3</td>\n",
       "      <td>84.0</td>\n",
       "      <td>94.0</td>\n",
       "      <td>89.0</td>\n",
       "      <td>81.0</td>\n",
       "      <td>87.0</td>\n",
       "      <td>88.0</td>\n",
       "      <td>81.0</td>\n",
       "      <td>76.0</td>\n",
       "      <td>77.0</td>\n",
       "      <td>94.0</td>\n",
       "      <td>89.0</td>\n",
       "      <td>91.0</td>\n",
       "      <td>87.0</td>\n",
       "      <td>96.0</td>\n",
       "      <td>70.0</td>\n",
       "      <td>95.0</td>\n",
       "      <td>95.0</td>\n",
       "      <td>88.0</td>\n",
       "      <td>79.0</td>\n",
       "      <td>93.0</td>\n",
       "      <td>63.0</td>\n",
       "      <td>29.0</td>\n",
       "      <td>95.0</td>\n",
       "      <td>82.0</td>\n",
       "      <td>85.0</td>\n",
       "      <td>95.0</td>\n",
       "      <td>28.0</td>\n",
       "      <td>31.0</td>\n",
       "      <td>23.0</td>\n",
       "      <td>7.0</td>\n",
       "      <td>11.0</td>\n",
       "      <td>15.0</td>\n",
       "      <td>14.0</td>\n",
       "      <td>11.0</td>\n",
       "      <td>€127.1M</td>\n",
       "    </tr>\n",
       "    <tr>\n",
       "      <th>2</th>\n",
       "      <td>2</td>\n",
       "      <td>190871</td>\n",
       "      <td>Neymar Jr</td>\n",
       "      <td>26</td>\n",
       "      <td>https://cdn.sofifa.org/players/4/19/190871.png</td>\n",
       "      <td>Brazil</td>\n",
       "      <td>https://cdn.sofifa.org/flags/54.png</td>\n",
       "      <td>92</td>\n",
       "      <td>93</td>\n",
       "      <td>Paris Saint-Germain</td>\n",
       "      <td>https://cdn.sofifa.org/teams/2/light/73.png</td>\n",
       "      <td>€118.5M</td>\n",
       "      <td>€290K</td>\n",
       "      <td>2143</td>\n",
       "      <td>Right</td>\n",
       "      <td>5.0</td>\n",
       "      <td>5.0</td>\n",
       "      <td>5.0</td>\n",
       "      <td>High/ Medium</td>\n",
       "      <td>Neymar</td>\n",
       "      <td>Yes</td>\n",
       "      <td>LW</td>\n",
       "      <td>10.0</td>\n",
       "      <td>Aug 3, 2017</td>\n",
       "      <td>NaN</td>\n",
       "      <td>2022</td>\n",
       "      <td>5'9</td>\n",
       "      <td>150lbs</td>\n",
       "      <td>84+3</td>\n",
       "      <td>84+3</td>\n",
       "      <td>84+3</td>\n",
       "      <td>89+3</td>\n",
       "      <td>89+3</td>\n",
       "      <td>89+3</td>\n",
       "      <td>89+3</td>\n",
       "      <td>89+3</td>\n",
       "      <td>89+3</td>\n",
       "      <td>89+3</td>\n",
       "      <td>89+3</td>\n",
       "      <td>88+3</td>\n",
       "      <td>81+3</td>\n",
       "      <td>81+3</td>\n",
       "      <td>81+3</td>\n",
       "      <td>88+3</td>\n",
       "      <td>65+3</td>\n",
       "      <td>60+3</td>\n",
       "      <td>60+3</td>\n",
       "      <td>60+3</td>\n",
       "      <td>65+3</td>\n",
       "      <td>60+3</td>\n",
       "      <td>47+3</td>\n",
       "      <td>47+3</td>\n",
       "      <td>47+3</td>\n",
       "      <td>60+3</td>\n",
       "      <td>79.0</td>\n",
       "      <td>87.0</td>\n",
       "      <td>62.0</td>\n",
       "      <td>84.0</td>\n",
       "      <td>84.0</td>\n",
       "      <td>96.0</td>\n",
       "      <td>88.0</td>\n",
       "      <td>87.0</td>\n",
       "      <td>78.0</td>\n",
       "      <td>95.0</td>\n",
       "      <td>94.0</td>\n",
       "      <td>90.0</td>\n",
       "      <td>96.0</td>\n",
       "      <td>94.0</td>\n",
       "      <td>84.0</td>\n",
       "      <td>80.0</td>\n",
       "      <td>61.0</td>\n",
       "      <td>81.0</td>\n",
       "      <td>49.0</td>\n",
       "      <td>82.0</td>\n",
       "      <td>56.0</td>\n",
       "      <td>36.0</td>\n",
       "      <td>89.0</td>\n",
       "      <td>87.0</td>\n",
       "      <td>81.0</td>\n",
       "      <td>94.0</td>\n",
       "      <td>27.0</td>\n",
       "      <td>24.0</td>\n",
       "      <td>33.0</td>\n",
       "      <td>9.0</td>\n",
       "      <td>9.0</td>\n",
       "      <td>15.0</td>\n",
       "      <td>15.0</td>\n",
       "      <td>11.0</td>\n",
       "      <td>€228.1M</td>\n",
       "    </tr>\n",
       "    <tr>\n",
       "      <th>3</th>\n",
       "      <td>3</td>\n",
       "      <td>193080</td>\n",
       "      <td>De Gea</td>\n",
       "      <td>27</td>\n",
       "      <td>https://cdn.sofifa.org/players/4/19/193080.png</td>\n",
       "      <td>Spain</td>\n",
       "      <td>https://cdn.sofifa.org/flags/45.png</td>\n",
       "      <td>91</td>\n",
       "      <td>93</td>\n",
       "      <td>Manchester United</td>\n",
       "      <td>https://cdn.sofifa.org/teams/2/light/11.png</td>\n",
       "      <td>€72M</td>\n",
       "      <td>€260K</td>\n",
       "      <td>1471</td>\n",
       "      <td>Right</td>\n",
       "      <td>4.0</td>\n",
       "      <td>3.0</td>\n",
       "      <td>1.0</td>\n",
       "      <td>Medium/ Medium</td>\n",
       "      <td>Lean</td>\n",
       "      <td>Yes</td>\n",
       "      <td>GK</td>\n",
       "      <td>1.0</td>\n",
       "      <td>Jul 1, 2011</td>\n",
       "      <td>NaN</td>\n",
       "      <td>2020</td>\n",
       "      <td>6'4</td>\n",
       "      <td>168lbs</td>\n",
       "      <td>NaN</td>\n",
       "      <td>NaN</td>\n",
       "      <td>NaN</td>\n",
       "      <td>NaN</td>\n",
       "      <td>NaN</td>\n",
       "      <td>NaN</td>\n",
       "      <td>NaN</td>\n",
       "      <td>NaN</td>\n",
       "      <td>NaN</td>\n",
       "      <td>NaN</td>\n",
       "      <td>NaN</td>\n",
       "      <td>NaN</td>\n",
       "      <td>NaN</td>\n",
       "      <td>NaN</td>\n",
       "      <td>NaN</td>\n",
       "      <td>NaN</td>\n",
       "      <td>NaN</td>\n",
       "      <td>NaN</td>\n",
       "      <td>NaN</td>\n",
       "      <td>NaN</td>\n",
       "      <td>NaN</td>\n",
       "      <td>NaN</td>\n",
       "      <td>NaN</td>\n",
       "      <td>NaN</td>\n",
       "      <td>NaN</td>\n",
       "      <td>NaN</td>\n",
       "      <td>17.0</td>\n",
       "      <td>13.0</td>\n",
       "      <td>21.0</td>\n",
       "      <td>50.0</td>\n",
       "      <td>13.0</td>\n",
       "      <td>18.0</td>\n",
       "      <td>21.0</td>\n",
       "      <td>19.0</td>\n",
       "      <td>51.0</td>\n",
       "      <td>42.0</td>\n",
       "      <td>57.0</td>\n",
       "      <td>58.0</td>\n",
       "      <td>60.0</td>\n",
       "      <td>90.0</td>\n",
       "      <td>43.0</td>\n",
       "      <td>31.0</td>\n",
       "      <td>67.0</td>\n",
       "      <td>43.0</td>\n",
       "      <td>64.0</td>\n",
       "      <td>12.0</td>\n",
       "      <td>38.0</td>\n",
       "      <td>30.0</td>\n",
       "      <td>12.0</td>\n",
       "      <td>68.0</td>\n",
       "      <td>40.0</td>\n",
       "      <td>68.0</td>\n",
       "      <td>15.0</td>\n",
       "      <td>21.0</td>\n",
       "      <td>13.0</td>\n",
       "      <td>90.0</td>\n",
       "      <td>85.0</td>\n",
       "      <td>87.0</td>\n",
       "      <td>88.0</td>\n",
       "      <td>94.0</td>\n",
       "      <td>€138.6M</td>\n",
       "    </tr>\n",
       "    <tr>\n",
       "      <th>4</th>\n",
       "      <td>4</td>\n",
       "      <td>192985</td>\n",
       "      <td>K. De Bruyne</td>\n",
       "      <td>27</td>\n",
       "      <td>https://cdn.sofifa.org/players/4/19/192985.png</td>\n",
       "      <td>Belgium</td>\n",
       "      <td>https://cdn.sofifa.org/flags/7.png</td>\n",
       "      <td>91</td>\n",
       "      <td>92</td>\n",
       "      <td>Manchester City</td>\n",
       "      <td>https://cdn.sofifa.org/teams/2/light/10.png</td>\n",
       "      <td>€102M</td>\n",
       "      <td>€355K</td>\n",
       "      <td>2281</td>\n",
       "      <td>Right</td>\n",
       "      <td>4.0</td>\n",
       "      <td>5.0</td>\n",
       "      <td>4.0</td>\n",
       "      <td>High/ High</td>\n",
       "      <td>Normal</td>\n",
       "      <td>Yes</td>\n",
       "      <td>RCM</td>\n",
       "      <td>7.0</td>\n",
       "      <td>Aug 30, 2015</td>\n",
       "      <td>NaN</td>\n",
       "      <td>2023</td>\n",
       "      <td>5'11</td>\n",
       "      <td>154lbs</td>\n",
       "      <td>82+3</td>\n",
       "      <td>82+3</td>\n",
       "      <td>82+3</td>\n",
       "      <td>87+3</td>\n",
       "      <td>87+3</td>\n",
       "      <td>87+3</td>\n",
       "      <td>87+3</td>\n",
       "      <td>87+3</td>\n",
       "      <td>88+3</td>\n",
       "      <td>88+3</td>\n",
       "      <td>88+3</td>\n",
       "      <td>88+3</td>\n",
       "      <td>87+3</td>\n",
       "      <td>87+3</td>\n",
       "      <td>87+3</td>\n",
       "      <td>88+3</td>\n",
       "      <td>77+3</td>\n",
       "      <td>77+3</td>\n",
       "      <td>77+3</td>\n",
       "      <td>77+3</td>\n",
       "      <td>77+3</td>\n",
       "      <td>73+3</td>\n",
       "      <td>66+3</td>\n",
       "      <td>66+3</td>\n",
       "      <td>66+3</td>\n",
       "      <td>73+3</td>\n",
       "      <td>93.0</td>\n",
       "      <td>82.0</td>\n",
       "      <td>55.0</td>\n",
       "      <td>92.0</td>\n",
       "      <td>82.0</td>\n",
       "      <td>86.0</td>\n",
       "      <td>85.0</td>\n",
       "      <td>83.0</td>\n",
       "      <td>91.0</td>\n",
       "      <td>91.0</td>\n",
       "      <td>78.0</td>\n",
       "      <td>76.0</td>\n",
       "      <td>79.0</td>\n",
       "      <td>91.0</td>\n",
       "      <td>77.0</td>\n",
       "      <td>91.0</td>\n",
       "      <td>63.0</td>\n",
       "      <td>90.0</td>\n",
       "      <td>75.0</td>\n",
       "      <td>91.0</td>\n",
       "      <td>76.0</td>\n",
       "      <td>61.0</td>\n",
       "      <td>87.0</td>\n",
       "      <td>94.0</td>\n",
       "      <td>79.0</td>\n",
       "      <td>88.0</td>\n",
       "      <td>68.0</td>\n",
       "      <td>58.0</td>\n",
       "      <td>51.0</td>\n",
       "      <td>15.0</td>\n",
       "      <td>13.0</td>\n",
       "      <td>5.0</td>\n",
       "      <td>10.0</td>\n",
       "      <td>13.0</td>\n",
       "      <td>€196.4M</td>\n",
       "    </tr>\n",
       "  </tbody>\n",
       "</table>\n",
       "</div>"
      ],
      "text/plain": [
       "   Unnamed: 0      ID               Name  Age  \\\n",
       "0           0  158023           L. Messi   31   \n",
       "1           1   20801  Cristiano Ronaldo   33   \n",
       "2           2  190871          Neymar Jr   26   \n",
       "3           3  193080             De Gea   27   \n",
       "4           4  192985       K. De Bruyne   27   \n",
       "\n",
       "                                            Photo Nationality  \\\n",
       "0  https://cdn.sofifa.org/players/4/19/158023.png   Argentina   \n",
       "1   https://cdn.sofifa.org/players/4/19/20801.png    Portugal   \n",
       "2  https://cdn.sofifa.org/players/4/19/190871.png      Brazil   \n",
       "3  https://cdn.sofifa.org/players/4/19/193080.png       Spain   \n",
       "4  https://cdn.sofifa.org/players/4/19/192985.png     Belgium   \n",
       "\n",
       "                                  Flag  Overall  Potential  \\\n",
       "0  https://cdn.sofifa.org/flags/52.png       94         94   \n",
       "1  https://cdn.sofifa.org/flags/38.png       94         94   \n",
       "2  https://cdn.sofifa.org/flags/54.png       92         93   \n",
       "3  https://cdn.sofifa.org/flags/45.png       91         93   \n",
       "4   https://cdn.sofifa.org/flags/7.png       91         92   \n",
       "\n",
       "                  Club                                     Club Logo    Value  \\\n",
       "0         FC Barcelona  https://cdn.sofifa.org/teams/2/light/241.png  €110.5M   \n",
       "1             Juventus   https://cdn.sofifa.org/teams/2/light/45.png     €77M   \n",
       "2  Paris Saint-Germain   https://cdn.sofifa.org/teams/2/light/73.png  €118.5M   \n",
       "3    Manchester United   https://cdn.sofifa.org/teams/2/light/11.png     €72M   \n",
       "4      Manchester City   https://cdn.sofifa.org/teams/2/light/10.png    €102M   \n",
       "\n",
       "    Wage  Special Preferred Foot  International Reputation  Weak Foot  \\\n",
       "0  €565K     2202           Left                       5.0        4.0   \n",
       "1  €405K     2228          Right                       5.0        4.0   \n",
       "2  €290K     2143          Right                       5.0        5.0   \n",
       "3  €260K     1471          Right                       4.0        3.0   \n",
       "4  €355K     2281          Right                       4.0        5.0   \n",
       "\n",
       "   Skill Moves       Work Rate   Body Type Real Face Position  Jersey Number  \\\n",
       "0          4.0  Medium/ Medium       Messi       Yes       RF           10.0   \n",
       "1          5.0       High/ Low  C. Ronaldo       Yes       ST            7.0   \n",
       "2          5.0    High/ Medium      Neymar       Yes       LW           10.0   \n",
       "3          1.0  Medium/ Medium        Lean       Yes       GK            1.0   \n",
       "4          4.0      High/ High      Normal       Yes      RCM            7.0   \n",
       "\n",
       "         Joined Loaned From Contract Valid Until Height  Weight    LS    ST  \\\n",
       "0   Jul 1, 2004         NaN                 2021    5'7  159lbs  88+2  88+2   \n",
       "1  Jul 10, 2018         NaN                 2022    6'2  183lbs  91+3  91+3   \n",
       "2   Aug 3, 2017         NaN                 2022    5'9  150lbs  84+3  84+3   \n",
       "3   Jul 1, 2011         NaN                 2020    6'4  168lbs   NaN   NaN   \n",
       "4  Aug 30, 2015         NaN                 2023   5'11  154lbs  82+3  82+3   \n",
       "\n",
       "     RS    LW    LF    CF    RF    RW   LAM   CAM   RAM    LM   LCM    CM  \\\n",
       "0  88+2  92+2  93+2  93+2  93+2  92+2  93+2  93+2  93+2  91+2  84+2  84+2   \n",
       "1  91+3  89+3  90+3  90+3  90+3  89+3  88+3  88+3  88+3  88+3  81+3  81+3   \n",
       "2  84+3  89+3  89+3  89+3  89+3  89+3  89+3  89+3  89+3  88+3  81+3  81+3   \n",
       "3   NaN   NaN   NaN   NaN   NaN   NaN   NaN   NaN   NaN   NaN   NaN   NaN   \n",
       "4  82+3  87+3  87+3  87+3  87+3  87+3  88+3  88+3  88+3  88+3  87+3  87+3   \n",
       "\n",
       "    RCM    RM   LWB   LDM   CDM   RDM   RWB    LB   LCB    CB   RCB    RB  \\\n",
       "0  84+2  91+2  64+2  61+2  61+2  61+2  64+2  59+2  47+2  47+2  47+2  59+2   \n",
       "1  81+3  88+3  65+3  61+3  61+3  61+3  65+3  61+3  53+3  53+3  53+3  61+3   \n",
       "2  81+3  88+3  65+3  60+3  60+3  60+3  65+3  60+3  47+3  47+3  47+3  60+3   \n",
       "3   NaN   NaN   NaN   NaN   NaN   NaN   NaN   NaN   NaN   NaN   NaN   NaN   \n",
       "4  87+3  88+3  77+3  77+3  77+3  77+3  77+3  73+3  66+3  66+3  66+3  73+3   \n",
       "\n",
       "   Crossing  Finishing  HeadingAccuracy  ShortPassing  Volleys  Dribbling  \\\n",
       "0      84.0       95.0             70.0          90.0     86.0       97.0   \n",
       "1      84.0       94.0             89.0          81.0     87.0       88.0   \n",
       "2      79.0       87.0             62.0          84.0     84.0       96.0   \n",
       "3      17.0       13.0             21.0          50.0     13.0       18.0   \n",
       "4      93.0       82.0             55.0          92.0     82.0       86.0   \n",
       "\n",
       "   Curve  FKAccuracy  LongPassing  BallControl  Acceleration  SprintSpeed  \\\n",
       "0   93.0        94.0         87.0         96.0          91.0         86.0   \n",
       "1   81.0        76.0         77.0         94.0          89.0         91.0   \n",
       "2   88.0        87.0         78.0         95.0          94.0         90.0   \n",
       "3   21.0        19.0         51.0         42.0          57.0         58.0   \n",
       "4   85.0        83.0         91.0         91.0          78.0         76.0   \n",
       "\n",
       "   Agility  Reactions  Balance  ShotPower  Jumping  Stamina  Strength  \\\n",
       "0     91.0       95.0     95.0       85.0     68.0     72.0      59.0   \n",
       "1     87.0       96.0     70.0       95.0     95.0     88.0      79.0   \n",
       "2     96.0       94.0     84.0       80.0     61.0     81.0      49.0   \n",
       "3     60.0       90.0     43.0       31.0     67.0     43.0      64.0   \n",
       "4     79.0       91.0     77.0       91.0     63.0     90.0      75.0   \n",
       "\n",
       "   LongShots  Aggression  Interceptions  Positioning  Vision  Penalties  \\\n",
       "0       94.0        48.0           22.0         94.0    94.0       75.0   \n",
       "1       93.0        63.0           29.0         95.0    82.0       85.0   \n",
       "2       82.0        56.0           36.0         89.0    87.0       81.0   \n",
       "3       12.0        38.0           30.0         12.0    68.0       40.0   \n",
       "4       91.0        76.0           61.0         87.0    94.0       79.0   \n",
       "\n",
       "   Composure  Marking  StandingTackle  SlidingTackle  GKDiving  GKHandling  \\\n",
       "0       96.0     33.0            28.0           26.0       6.0        11.0   \n",
       "1       95.0     28.0            31.0           23.0       7.0        11.0   \n",
       "2       94.0     27.0            24.0           33.0       9.0         9.0   \n",
       "3       68.0     15.0            21.0           13.0      90.0        85.0   \n",
       "4       88.0     68.0            58.0           51.0      15.0        13.0   \n",
       "\n",
       "   GKKicking  GKPositioning  GKReflexes Release Clause  \n",
       "0       15.0           14.0         8.0        €226.5M  \n",
       "1       15.0           14.0        11.0        €127.1M  \n",
       "2       15.0           15.0        11.0        €228.1M  \n",
       "3       87.0           88.0        94.0        €138.6M  \n",
       "4        5.0           10.0        13.0        €196.4M  "
      ]
     },
     "execution_count": 3,
     "metadata": {},
     "output_type": "execute_result"
    }
   ],
   "source": [
    "df.head(5)"
   ]
  },
  {
   "cell_type": "code",
   "execution_count": 4,
   "metadata": {},
   "outputs": [
    {
     "name": "stdout",
     "output_type": "stream",
     "text": [
      "<class 'pandas.core.frame.DataFrame'>\n",
      "RangeIndex: 18207 entries, 0 to 18206\n",
      "Data columns (total 89 columns):\n",
      " #   Column                    Non-Null Count  Dtype  \n",
      "---  ------                    --------------  -----  \n",
      " 0   Unnamed: 0                18207 non-null  int64  \n",
      " 1   ID                        18207 non-null  int64  \n",
      " 2   Name                      18207 non-null  object \n",
      " 3   Age                       18207 non-null  int64  \n",
      " 4   Photo                     18207 non-null  object \n",
      " 5   Nationality               18207 non-null  object \n",
      " 6   Flag                      18207 non-null  object \n",
      " 7   Overall                   18207 non-null  int64  \n",
      " 8   Potential                 18207 non-null  int64  \n",
      " 9   Club                      17966 non-null  object \n",
      " 10  Club Logo                 18207 non-null  object \n",
      " 11  Value                     18207 non-null  object \n",
      " 12  Wage                      18207 non-null  object \n",
      " 13  Special                   18207 non-null  int64  \n",
      " 14  Preferred Foot            18159 non-null  object \n",
      " 15  International Reputation  18159 non-null  float64\n",
      " 16  Weak Foot                 18159 non-null  float64\n",
      " 17  Skill Moves               18159 non-null  float64\n",
      " 18  Work Rate                 18159 non-null  object \n",
      " 19  Body Type                 18159 non-null  object \n",
      " 20  Real Face                 18159 non-null  object \n",
      " 21  Position                  18147 non-null  object \n",
      " 22  Jersey Number             18147 non-null  float64\n",
      " 23  Joined                    16654 non-null  object \n",
      " 24  Loaned From               1264 non-null   object \n",
      " 25  Contract Valid Until      17918 non-null  object \n",
      " 26  Height                    18159 non-null  object \n",
      " 27  Weight                    18159 non-null  object \n",
      " 28  LS                        16122 non-null  object \n",
      " 29  ST                        16122 non-null  object \n",
      " 30  RS                        16122 non-null  object \n",
      " 31  LW                        16122 non-null  object \n",
      " 32  LF                        16122 non-null  object \n",
      " 33  CF                        16122 non-null  object \n",
      " 34  RF                        16122 non-null  object \n",
      " 35  RW                        16122 non-null  object \n",
      " 36  LAM                       16122 non-null  object \n",
      " 37  CAM                       16122 non-null  object \n",
      " 38  RAM                       16122 non-null  object \n",
      " 39  LM                        16122 non-null  object \n",
      " 40  LCM                       16122 non-null  object \n",
      " 41  CM                        16122 non-null  object \n",
      " 42  RCM                       16122 non-null  object \n",
      " 43  RM                        16122 non-null  object \n",
      " 44  LWB                       16122 non-null  object \n",
      " 45  LDM                       16122 non-null  object \n",
      " 46  CDM                       16122 non-null  object \n",
      " 47  RDM                       16122 non-null  object \n",
      " 48  RWB                       16122 non-null  object \n",
      " 49  LB                        16122 non-null  object \n",
      " 50  LCB                       16122 non-null  object \n",
      " 51  CB                        16122 non-null  object \n",
      " 52  RCB                       16122 non-null  object \n",
      " 53  RB                        16122 non-null  object \n",
      " 54  Crossing                  18159 non-null  float64\n",
      " 55  Finishing                 18159 non-null  float64\n",
      " 56  HeadingAccuracy           18159 non-null  float64\n",
      " 57  ShortPassing              18159 non-null  float64\n",
      " 58  Volleys                   18159 non-null  float64\n",
      " 59  Dribbling                 18159 non-null  float64\n",
      " 60  Curve                     18159 non-null  float64\n",
      " 61  FKAccuracy                18159 non-null  float64\n",
      " 62  LongPassing               18159 non-null  float64\n",
      " 63  BallControl               18159 non-null  float64\n",
      " 64  Acceleration              18159 non-null  float64\n",
      " 65  SprintSpeed               18159 non-null  float64\n",
      " 66  Agility                   18159 non-null  float64\n",
      " 67  Reactions                 18159 non-null  float64\n",
      " 68  Balance                   18159 non-null  float64\n",
      " 69  ShotPower                 18159 non-null  float64\n",
      " 70  Jumping                   18159 non-null  float64\n",
      " 71  Stamina                   18159 non-null  float64\n",
      " 72  Strength                  18159 non-null  float64\n",
      " 73  LongShots                 18159 non-null  float64\n",
      " 74  Aggression                18159 non-null  float64\n",
      " 75  Interceptions             18159 non-null  float64\n",
      " 76  Positioning               18159 non-null  float64\n",
      " 77  Vision                    18159 non-null  float64\n",
      " 78  Penalties                 18159 non-null  float64\n",
      " 79  Composure                 18159 non-null  float64\n",
      " 80  Marking                   18159 non-null  float64\n",
      " 81  StandingTackle            18159 non-null  float64\n",
      " 82  SlidingTackle             18159 non-null  float64\n",
      " 83  GKDiving                  18159 non-null  float64\n",
      " 84  GKHandling                18159 non-null  float64\n",
      " 85  GKKicking                 18159 non-null  float64\n",
      " 86  GKPositioning             18159 non-null  float64\n",
      " 87  GKReflexes                18159 non-null  float64\n",
      " 88  Release Clause            16643 non-null  object \n",
      "dtypes: float64(38), int64(6), object(45)\n",
      "memory usage: 12.4+ MB\n"
     ]
    }
   ],
   "source": [
    "df.info()"
   ]
  },
  {
   "cell_type": "code",
   "execution_count": 5,
   "metadata": {},
   "outputs": [
    {
     "data": {
      "text/plain": [
       "Unnamed: 0                      0\n",
       "ID                              0\n",
       "Name                            0\n",
       "Age                             0\n",
       "Photo                           0\n",
       "Nationality                     0\n",
       "Flag                            0\n",
       "Overall                         0\n",
       "Potential                       0\n",
       "Club                          241\n",
       "Club Logo                       0\n",
       "Value                           0\n",
       "Wage                            0\n",
       "Special                         0\n",
       "Preferred Foot                 48\n",
       "International Reputation       48\n",
       "Weak Foot                      48\n",
       "Skill Moves                    48\n",
       "Work Rate                      48\n",
       "Body Type                      48\n",
       "Real Face                      48\n",
       "Position                       60\n",
       "Jersey Number                  60\n",
       "Joined                       1553\n",
       "Loaned From                 16943\n",
       "Contract Valid Until          289\n",
       "Height                         48\n",
       "Weight                         48\n",
       "LS                           2085\n",
       "ST                           2085\n",
       "RS                           2085\n",
       "LW                           2085\n",
       "LF                           2085\n",
       "CF                           2085\n",
       "RF                           2085\n",
       "RW                           2085\n",
       "LAM                          2085\n",
       "CAM                          2085\n",
       "RAM                          2085\n",
       "LM                           2085\n",
       "LCM                          2085\n",
       "CM                           2085\n",
       "RCM                          2085\n",
       "RM                           2085\n",
       "LWB                          2085\n",
       "LDM                          2085\n",
       "CDM                          2085\n",
       "RDM                          2085\n",
       "RWB                          2085\n",
       "LB                           2085\n",
       "LCB                          2085\n",
       "CB                           2085\n",
       "RCB                          2085\n",
       "RB                           2085\n",
       "Crossing                       48\n",
       "Finishing                      48\n",
       "HeadingAccuracy                48\n",
       "ShortPassing                   48\n",
       "Volleys                        48\n",
       "Dribbling                      48\n",
       "Curve                          48\n",
       "FKAccuracy                     48\n",
       "LongPassing                    48\n",
       "BallControl                    48\n",
       "Acceleration                   48\n",
       "SprintSpeed                    48\n",
       "Agility                        48\n",
       "Reactions                      48\n",
       "Balance                        48\n",
       "ShotPower                      48\n",
       "Jumping                        48\n",
       "Stamina                        48\n",
       "Strength                       48\n",
       "LongShots                      48\n",
       "Aggression                     48\n",
       "Interceptions                  48\n",
       "Positioning                    48\n",
       "Vision                         48\n",
       "Penalties                      48\n",
       "Composure                      48\n",
       "Marking                        48\n",
       "StandingTackle                 48\n",
       "SlidingTackle                  48\n",
       "GKDiving                       48\n",
       "GKHandling                     48\n",
       "GKKicking                      48\n",
       "GKPositioning                  48\n",
       "GKReflexes                     48\n",
       "Release Clause               1564\n",
       "dtype: int64"
      ]
     },
     "execution_count": 5,
     "metadata": {},
     "output_type": "execute_result"
    }
   ],
   "source": [
    "df.isnull().sum()"
   ]
  },
  {
   "cell_type": "code",
   "execution_count": 6,
   "metadata": {},
   "outputs": [
    {
     "data": {
      "text/plain": [
       "Index(['Unnamed: 0', 'ID', 'Name', 'Age', 'Photo', 'Nationality', 'Flag',\n",
       "       'Overall', 'Potential', 'Club', 'Club Logo', 'Value', 'Wage', 'Special',\n",
       "       'Preferred Foot', 'International Reputation', 'Weak Foot',\n",
       "       'Skill Moves', 'Work Rate', 'Body Type', 'Real Face', 'Position',\n",
       "       'Jersey Number', 'Joined', 'Loaned From', 'Contract Valid Until',\n",
       "       'Height', 'Weight', 'LS', 'ST', 'RS', 'LW', 'LF', 'CF', 'RF', 'RW',\n",
       "       'LAM', 'CAM', 'RAM', 'LM', 'LCM', 'CM', 'RCM', 'RM', 'LWB', 'LDM',\n",
       "       'CDM', 'RDM', 'RWB', 'LB', 'LCB', 'CB', 'RCB', 'RB', 'Crossing',\n",
       "       'Finishing', 'HeadingAccuracy', 'ShortPassing', 'Volleys', 'Dribbling',\n",
       "       'Curve', 'FKAccuracy', 'LongPassing', 'BallControl', 'Acceleration',\n",
       "       'SprintSpeed', 'Agility', 'Reactions', 'Balance', 'ShotPower',\n",
       "       'Jumping', 'Stamina', 'Strength', 'LongShots', 'Aggression',\n",
       "       'Interceptions', 'Positioning', 'Vision', 'Penalties', 'Composure',\n",
       "       'Marking', 'StandingTackle', 'SlidingTackle', 'GKDiving', 'GKHandling',\n",
       "       'GKKicking', 'GKPositioning', 'GKReflexes', 'Release Clause'],\n",
       "      dtype='object')"
      ]
     },
     "execution_count": 6,
     "metadata": {},
     "output_type": "execute_result"
    }
   ],
   "source": [
    "df.columns"
   ]
  },
  {
   "cell_type": "code",
   "execution_count": 7,
   "metadata": {},
   "outputs": [],
   "source": [
    "some_skills_nan=['Crossing','Finishing', 'HeadingAccuracy', 'ShortPassing', 'Volleys', 'Dribbling',\n",
    "          'Curve', 'FKAccuracy', 'LongPassing', 'BallControl', 'Acceleration',\n",
    "          'SprintSpeed', 'Agility', 'Reactions', 'Balance', 'ShotPower',\n",
    "          'Jumping', 'Stamina', 'Strength', 'LongShots', 'Aggression',\n",
    "          'Interceptions', 'Positioning', 'Vision', 'Penalties', 'Composure',\n",
    "          'Marking', 'StandingTackle', 'SlidingTackle', 'GKDiving', 'GKHandling',\n",
    "          'GKKicking', 'GKPositioning', 'GKReflexes',\n",
    "          'International Reputation', 'Weak Foot','Skill Moves','Potential']"
   ]
  },
  {
   "cell_type": "code",
   "execution_count": 8,
   "metadata": {},
   "outputs": [],
   "source": [
    "for col in some_skills_nan:\n",
    "    df[col].fillna(df[col].mean(), inplace=True)"
   ]
  },
  {
   "cell_type": "code",
   "execution_count": 9,
   "metadata": {},
   "outputs": [
    {
     "data": {
      "text/plain": [
       "Unnamed: 0                      0\n",
       "ID                              0\n",
       "Name                            0\n",
       "Age                             0\n",
       "Photo                           0\n",
       "Nationality                     0\n",
       "Flag                            0\n",
       "Overall                         0\n",
       "Potential                       0\n",
       "Club                          241\n",
       "Club Logo                       0\n",
       "Value                           0\n",
       "Wage                            0\n",
       "Special                         0\n",
       "Preferred Foot                 48\n",
       "International Reputation        0\n",
       "Weak Foot                       0\n",
       "Skill Moves                     0\n",
       "Work Rate                      48\n",
       "Body Type                      48\n",
       "Real Face                      48\n",
       "Position                       60\n",
       "Jersey Number                  60\n",
       "Joined                       1553\n",
       "Loaned From                 16943\n",
       "Contract Valid Until          289\n",
       "Height                         48\n",
       "Weight                         48\n",
       "LS                           2085\n",
       "ST                           2085\n",
       "RS                           2085\n",
       "LW                           2085\n",
       "LF                           2085\n",
       "CF                           2085\n",
       "RF                           2085\n",
       "RW                           2085\n",
       "LAM                          2085\n",
       "CAM                          2085\n",
       "RAM                          2085\n",
       "LM                           2085\n",
       "LCM                          2085\n",
       "CM                           2085\n",
       "RCM                          2085\n",
       "RM                           2085\n",
       "LWB                          2085\n",
       "LDM                          2085\n",
       "CDM                          2085\n",
       "RDM                          2085\n",
       "RWB                          2085\n",
       "LB                           2085\n",
       "LCB                          2085\n",
       "CB                           2085\n",
       "RCB                          2085\n",
       "RB                           2085\n",
       "Crossing                        0\n",
       "Finishing                       0\n",
       "HeadingAccuracy                 0\n",
       "ShortPassing                    0\n",
       "Volleys                         0\n",
       "Dribbling                       0\n",
       "Curve                           0\n",
       "FKAccuracy                      0\n",
       "LongPassing                     0\n",
       "BallControl                     0\n",
       "Acceleration                    0\n",
       "SprintSpeed                     0\n",
       "Agility                         0\n",
       "Reactions                       0\n",
       "Balance                         0\n",
       "ShotPower                       0\n",
       "Jumping                         0\n",
       "Stamina                         0\n",
       "Strength                        0\n",
       "LongShots                       0\n",
       "Aggression                      0\n",
       "Interceptions                   0\n",
       "Positioning                     0\n",
       "Vision                          0\n",
       "Penalties                       0\n",
       "Composure                       0\n",
       "Marking                         0\n",
       "StandingTackle                  0\n",
       "SlidingTackle                   0\n",
       "GKDiving                        0\n",
       "GKHandling                      0\n",
       "GKKicking                       0\n",
       "GKPositioning                   0\n",
       "GKReflexes                      0\n",
       "Release Clause               1564\n",
       "dtype: int64"
      ]
     },
     "execution_count": 9,
     "metadata": {},
     "output_type": "execute_result"
    }
   ],
   "source": [
    "df.isnull().sum()"
   ]
  },
  {
   "cell_type": "code",
   "execution_count": 10,
   "metadata": {},
   "outputs": [
    {
     "name": "stdout",
     "output_type": "stream",
     "text": [
      "<class 'str'>\n",
      "173\n"
     ]
    }
   ],
   "source": [
    "a=\"5'7\"\n",
    "print(type(a))\n",
    "h=[]\n",
    "h=a.split(\"'\")\n",
    "b=int(h[0])\n",
    "c=int(h[1])/10\n",
    "w=(b+c)*30.4\n",
    "print(int(w))"
   ]
  },
  {
   "cell_type": "markdown",
   "metadata": {},
   "source": [
    "def height(x):\n",
    "    h=[]\n",
    "    if type(x)=='str':\n",
    "        h=x.split(\"'\")\n",
    "        f=int(h[0])\n",
    "        s=int(h[1])/10\n",
    "        d=f+s\n",
    "    return (d)"
   ]
  },
  {
   "cell_type": "code",
   "execution_count": 11,
   "metadata": {},
   "outputs": [],
   "source": [
    "def height(x):\n",
    "    h=[]\n",
    "    o=1\n",
    "    if isinstance(x,str):\n",
    "        h=x.split(\"'\")\n",
    "        f=int(h[0])\n",
    "        s=int(h[1])/10\n",
    "        o=(f+s)*30.48\n",
    "    return (int(o))"
   ]
  },
  {
   "cell_type": "code",
   "execution_count": 12,
   "metadata": {},
   "outputs": [
    {
     "name": "stdout",
     "output_type": "stream",
     "text": [
      "173\n"
     ]
    }
   ],
   "source": [
    "a=\"5'7\"\n",
    "print(height(a))"
   ]
  },
  {
   "cell_type": "code",
   "execution_count": 13,
   "metadata": {},
   "outputs": [],
   "source": [
    "df['Height']=df['Height'].apply(lambda x :height(x))\n",
    "df['Height'].fillna(df['Height'].mean, inplace=True)"
   ]
  },
  {
   "cell_type": "code",
   "execution_count": 14,
   "metadata": {},
   "outputs": [
    {
     "data": {
      "text/plain": [
       "Unnamed: 0                      0\n",
       "ID                              0\n",
       "Name                            0\n",
       "Age                             0\n",
       "Photo                           0\n",
       "Nationality                     0\n",
       "Flag                            0\n",
       "Overall                         0\n",
       "Potential                       0\n",
       "Club                          241\n",
       "Club Logo                       0\n",
       "Value                           0\n",
       "Wage                            0\n",
       "Special                         0\n",
       "Preferred Foot                 48\n",
       "International Reputation        0\n",
       "Weak Foot                       0\n",
       "Skill Moves                     0\n",
       "Work Rate                      48\n",
       "Body Type                      48\n",
       "Real Face                      48\n",
       "Position                       60\n",
       "Jersey Number                  60\n",
       "Joined                       1553\n",
       "Loaned From                 16943\n",
       "Contract Valid Until          289\n",
       "Height                          0\n",
       "Weight                         48\n",
       "LS                           2085\n",
       "ST                           2085\n",
       "RS                           2085\n",
       "LW                           2085\n",
       "LF                           2085\n",
       "CF                           2085\n",
       "RF                           2085\n",
       "RW                           2085\n",
       "LAM                          2085\n",
       "CAM                          2085\n",
       "RAM                          2085\n",
       "LM                           2085\n",
       "LCM                          2085\n",
       "CM                           2085\n",
       "RCM                          2085\n",
       "RM                           2085\n",
       "LWB                          2085\n",
       "LDM                          2085\n",
       "CDM                          2085\n",
       "RDM                          2085\n",
       "RWB                          2085\n",
       "LB                           2085\n",
       "LCB                          2085\n",
       "CB                           2085\n",
       "RCB                          2085\n",
       "RB                           2085\n",
       "Crossing                        0\n",
       "Finishing                       0\n",
       "HeadingAccuracy                 0\n",
       "ShortPassing                    0\n",
       "Volleys                         0\n",
       "Dribbling                       0\n",
       "Curve                           0\n",
       "FKAccuracy                      0\n",
       "LongPassing                     0\n",
       "BallControl                     0\n",
       "Acceleration                    0\n",
       "SprintSpeed                     0\n",
       "Agility                         0\n",
       "Reactions                       0\n",
       "Balance                         0\n",
       "ShotPower                       0\n",
       "Jumping                         0\n",
       "Stamina                         0\n",
       "Strength                        0\n",
       "LongShots                       0\n",
       "Aggression                      0\n",
       "Interceptions                   0\n",
       "Positioning                     0\n",
       "Vision                          0\n",
       "Penalties                       0\n",
       "Composure                       0\n",
       "Marking                         0\n",
       "StandingTackle                  0\n",
       "SlidingTackle                   0\n",
       "GKDiving                        0\n",
       "GKHandling                      0\n",
       "GKKicking                       0\n",
       "GKPositioning                   0\n",
       "GKReflexes                      0\n",
       "Release Clause               1564\n",
       "dtype: int64"
      ]
     },
     "execution_count": 14,
     "metadata": {},
     "output_type": "execute_result"
    }
   ],
   "source": [
    "df.isnull().sum()"
   ]
  },
  {
   "cell_type": "code",
   "execution_count": 15,
   "metadata": {},
   "outputs": [],
   "source": [
    "def weight(x):\n",
    "    w=1\n",
    "    if isinstance (x,str):\n",
    "        w=x.strip('lbs')\n",
    "    return(int(w))"
   ]
  },
  {
   "cell_type": "code",
   "execution_count": 16,
   "metadata": {},
   "outputs": [
    {
     "data": {
      "text/plain": [
       "150"
      ]
     },
     "execution_count": 16,
     "metadata": {},
     "output_type": "execute_result"
    }
   ],
   "source": [
    "a='150lbs'\n",
    "weight(a)"
   ]
  },
  {
   "cell_type": "code",
   "execution_count": 17,
   "metadata": {},
   "outputs": [],
   "source": [
    "df['Weight']=df['Weight'].apply(lambda x :weight(x))\n",
    "df['Weight'].fillna(df['Weight'].mean, inplace=True)"
   ]
  },
  {
   "cell_type": "code",
   "execution_count": 18,
   "metadata": {},
   "outputs": [
    {
     "data": {
      "text/plain": [
       "Unnamed: 0                      0\n",
       "ID                              0\n",
       "Name                            0\n",
       "Age                             0\n",
       "Photo                           0\n",
       "Nationality                     0\n",
       "Flag                            0\n",
       "Overall                         0\n",
       "Potential                       0\n",
       "Club                          241\n",
       "Club Logo                       0\n",
       "Value                           0\n",
       "Wage                            0\n",
       "Special                         0\n",
       "Preferred Foot                 48\n",
       "International Reputation        0\n",
       "Weak Foot                       0\n",
       "Skill Moves                     0\n",
       "Work Rate                      48\n",
       "Body Type                      48\n",
       "Real Face                      48\n",
       "Position                       60\n",
       "Jersey Number                  60\n",
       "Joined                       1553\n",
       "Loaned From                 16943\n",
       "Contract Valid Until          289\n",
       "Height                          0\n",
       "Weight                          0\n",
       "LS                           2085\n",
       "ST                           2085\n",
       "RS                           2085\n",
       "LW                           2085\n",
       "LF                           2085\n",
       "CF                           2085\n",
       "RF                           2085\n",
       "RW                           2085\n",
       "LAM                          2085\n",
       "CAM                          2085\n",
       "RAM                          2085\n",
       "LM                           2085\n",
       "LCM                          2085\n",
       "CM                           2085\n",
       "RCM                          2085\n",
       "RM                           2085\n",
       "LWB                          2085\n",
       "LDM                          2085\n",
       "CDM                          2085\n",
       "RDM                          2085\n",
       "RWB                          2085\n",
       "LB                           2085\n",
       "LCB                          2085\n",
       "CB                           2085\n",
       "RCB                          2085\n",
       "RB                           2085\n",
       "Crossing                        0\n",
       "Finishing                       0\n",
       "HeadingAccuracy                 0\n",
       "ShortPassing                    0\n",
       "Volleys                         0\n",
       "Dribbling                       0\n",
       "Curve                           0\n",
       "FKAccuracy                      0\n",
       "LongPassing                     0\n",
       "BallControl                     0\n",
       "Acceleration                    0\n",
       "SprintSpeed                     0\n",
       "Agility                         0\n",
       "Reactions                       0\n",
       "Balance                         0\n",
       "ShotPower                       0\n",
       "Jumping                         0\n",
       "Stamina                         0\n",
       "Strength                        0\n",
       "LongShots                       0\n",
       "Aggression                      0\n",
       "Interceptions                   0\n",
       "Positioning                     0\n",
       "Vision                          0\n",
       "Penalties                       0\n",
       "Composure                       0\n",
       "Marking                         0\n",
       "StandingTackle                  0\n",
       "SlidingTackle                   0\n",
       "GKDiving                        0\n",
       "GKHandling                      0\n",
       "GKKicking                       0\n",
       "GKPositioning                   0\n",
       "GKReflexes                      0\n",
       "Release Clause               1564\n",
       "dtype: int64"
      ]
     },
     "execution_count": 18,
     "metadata": {},
     "output_type": "execute_result"
    }
   ],
   "source": [
    "df.isnull().sum()"
   ]
  },
  {
   "cell_type": "code",
   "execution_count": 19,
   "metadata": {},
   "outputs": [
    {
     "name": "stdout",
     "output_type": "stream",
     "text": [
      "Name,17194\n",
      "Photo,18207\n",
      "Nationality,164\n",
      "Flag,164\n",
      "Club,652\n",
      "Club Logo,679\n",
      "Value,217\n",
      "Wage,144\n",
      "Preferred Foot,3\n",
      "Work Rate,10\n",
      "Body Type,11\n",
      "Real Face,3\n",
      "Position,28\n",
      "Joined,1737\n",
      "Loaned From,342\n",
      "Contract Valid Until,37\n",
      "LS,94\n",
      "ST,94\n",
      "RS,94\n",
      "LW,106\n",
      "LF,103\n",
      "CF,103\n",
      "RF,103\n",
      "RW,106\n",
      "LAM,102\n",
      "CAM,102\n",
      "RAM,102\n",
      "LM,101\n",
      "LCM,93\n",
      "CM,93\n",
      "RCM,93\n",
      "RM,101\n",
      "LWB,96\n",
      "LDM,100\n",
      "CDM,100\n",
      "RDM,100\n",
      "RWB,96\n",
      "LB,99\n",
      "LCB,109\n",
      "CB,109\n",
      "RCB,109\n",
      "RB,99\n",
      "Release Clause,1245\n"
     ]
    }
   ],
   "source": [
    "for col in df.columns:\n",
    "    if df[col].dtype=='O':\n",
    "        print('{},{}'.format(col,len(pd.unique(df[col]))))"
   ]
  },
  {
   "cell_type": "code",
   "execution_count": 20,
   "metadata": {},
   "outputs": [],
   "source": [
    "cato_skills_nan=['LS', 'ST', 'RS', 'LW', 'LF', 'CF', 'RF', 'RW',\n",
    "                 'LAM', 'CAM', 'RAM', 'LM', 'LCM', 'CM', 'RCM', 'RM', 'LWB', 'LDM',\n",
    "                 'CDM', 'RDM', 'RWB', 'LB', 'LCB', 'CB', 'RCB', 'RB']"
   ]
  },
  {
   "cell_type": "code",
   "execution_count": 21,
   "metadata": {},
   "outputs": [
    {
     "name": "stdout",
     "output_type": "stream",
     "text": [
      "94\n"
     ]
    }
   ],
   "source": [
    "p=[]\n",
    "a=\"92+2\"\n",
    "p=a.split('+')\n",
    "f=int(p[0])\n",
    "s=int(p[1])\n",
    "b=f+s\n",
    "print(int(b))\n"
   ]
  },
  {
   "cell_type": "code",
   "execution_count": 22,
   "metadata": {},
   "outputs": [],
   "source": [
    "def skill(x):\n",
    "    L=[]\n",
    "    s=1\n",
    "    if isinstance(x,str):\n",
    "        L=x.split('+')\n",
    "        i=int(L[0])\n",
    "        j=int(L[1])\n",
    "        s=i+j\n",
    "    return(s)"
   ]
  },
  {
   "cell_type": "code",
   "execution_count": 23,
   "metadata": {},
   "outputs": [
    {
     "data": {
      "text/plain": [
       "94"
      ]
     },
     "execution_count": 23,
     "metadata": {},
     "output_type": "execute_result"
    }
   ],
   "source": [
    "a=\"92+2\"\n",
    "skill(a)"
   ]
  },
  {
   "cell_type": "code",
   "execution_count": 24,
   "metadata": {},
   "outputs": [],
   "source": [
    "for col in cato_skills_nan:\n",
    "    df[col]=df[col].apply(lambda x :skill(x))\n",
    "    df[col].fillna(df[col].mean, inplace=True)"
   ]
  },
  {
   "cell_type": "code",
   "execution_count": 25,
   "metadata": {},
   "outputs": [
    {
     "data": {
      "text/plain": [
       "Unnamed: 0                      0\n",
       "ID                              0\n",
       "Name                            0\n",
       "Age                             0\n",
       "Photo                           0\n",
       "Nationality                     0\n",
       "Flag                            0\n",
       "Overall                         0\n",
       "Potential                       0\n",
       "Club                          241\n",
       "Club Logo                       0\n",
       "Value                           0\n",
       "Wage                            0\n",
       "Special                         0\n",
       "Preferred Foot                 48\n",
       "International Reputation        0\n",
       "Weak Foot                       0\n",
       "Skill Moves                     0\n",
       "Work Rate                      48\n",
       "Body Type                      48\n",
       "Real Face                      48\n",
       "Position                       60\n",
       "Jersey Number                  60\n",
       "Joined                       1553\n",
       "Loaned From                 16943\n",
       "Contract Valid Until          289\n",
       "Height                          0\n",
       "Weight                          0\n",
       "LS                              0\n",
       "ST                              0\n",
       "RS                              0\n",
       "LW                              0\n",
       "LF                              0\n",
       "CF                              0\n",
       "RF                              0\n",
       "RW                              0\n",
       "LAM                             0\n",
       "CAM                             0\n",
       "RAM                             0\n",
       "LM                              0\n",
       "LCM                             0\n",
       "CM                              0\n",
       "RCM                             0\n",
       "RM                              0\n",
       "LWB                             0\n",
       "LDM                             0\n",
       "CDM                             0\n",
       "RDM                             0\n",
       "RWB                             0\n",
       "LB                              0\n",
       "LCB                             0\n",
       "CB                              0\n",
       "RCB                             0\n",
       "RB                              0\n",
       "Crossing                        0\n",
       "Finishing                       0\n",
       "HeadingAccuracy                 0\n",
       "ShortPassing                    0\n",
       "Volleys                         0\n",
       "Dribbling                       0\n",
       "Curve                           0\n",
       "FKAccuracy                      0\n",
       "LongPassing                     0\n",
       "BallControl                     0\n",
       "Acceleration                    0\n",
       "SprintSpeed                     0\n",
       "Agility                         0\n",
       "Reactions                       0\n",
       "Balance                         0\n",
       "ShotPower                       0\n",
       "Jumping                         0\n",
       "Stamina                         0\n",
       "Strength                        0\n",
       "LongShots                       0\n",
       "Aggression                      0\n",
       "Interceptions                   0\n",
       "Positioning                     0\n",
       "Vision                          0\n",
       "Penalties                       0\n",
       "Composure                       0\n",
       "Marking                         0\n",
       "StandingTackle                  0\n",
       "SlidingTackle                   0\n",
       "GKDiving                        0\n",
       "GKHandling                      0\n",
       "GKKicking                       0\n",
       "GKPositioning                   0\n",
       "GKReflexes                      0\n",
       "Release Clause               1564\n",
       "dtype: int64"
      ]
     },
     "execution_count": 25,
     "metadata": {},
     "output_type": "execute_result"
    }
   ],
   "source": [
    "df.isnull().sum()"
   ]
  },
  {
   "cell_type": "code",
   "execution_count": 26,
   "metadata": {},
   "outputs": [
    {
     "data": {
      "text/plain": [
       "Medium/ Medium    9810\n",
       "High/ Medium      3173\n",
       "Medium/ High      1690\n",
       "High/ High        1015\n",
       "Medium/ Low        850\n",
       "High/ Low          699\n",
       "Low/ Medium        449\n",
       "Low/ High          439\n",
       "Low/ Low            34\n",
       "Name: Work Rate, dtype: int64"
      ]
     },
     "execution_count": 26,
     "metadata": {},
     "output_type": "execute_result"
    }
   ],
   "source": [
    "df['Work Rate'].value_counts()"
   ]
  },
  {
   "cell_type": "code",
   "execution_count": 27,
   "metadata": {},
   "outputs": [],
   "source": [
    "df['Work Rate'].fillna('Medium/ Medium',inplace=True)"
   ]
  },
  {
   "cell_type": "code",
   "execution_count": 28,
   "metadata": {},
   "outputs": [
    {
     "data": {
      "text/plain": [
       "Right    13948\n",
       "Left      4211\n",
       "Name: Preferred Foot, dtype: int64"
      ]
     },
     "execution_count": 28,
     "metadata": {},
     "output_type": "execute_result"
    }
   ],
   "source": [
    "df['Preferred Foot'].value_counts()"
   ]
  },
  {
   "cell_type": "code",
   "execution_count": 29,
   "metadata": {},
   "outputs": [],
   "source": [
    "df['Preferred Foot'].fillna('Right',inplace=True)"
   ]
  },
  {
   "cell_type": "code",
   "execution_count": 30,
   "metadata": {},
   "outputs": [
    {
     "data": {
      "text/plain": [
       "['Messi',\n",
       " 'C. Ronaldo',\n",
       " 'Neymar',\n",
       " 'Lean',\n",
       " 'Normal',\n",
       " 'Courtois',\n",
       " 'Stocky',\n",
       " 'PLAYER_BODY_TYPE_25',\n",
       " 'Shaqiri',\n",
       " 'Akinfenwa',\n",
       " nan]"
      ]
     },
     "execution_count": 30,
     "metadata": {},
     "output_type": "execute_result"
    }
   ],
   "source": [
    "df['Body Type'].unique().tolist()"
   ]
  },
  {
   "cell_type": "code",
   "execution_count": 31,
   "metadata": {},
   "outputs": [],
   "source": [
    "replace_dict=dict([('Messi','Lean'),('C. Ronaldo','Normal'),('Neymar','Normal'),\n",
    "                   ('Courtois','Normal'),('PLAYER_BODY_TYPE_25','Normal'),('PLAYER_BODY_TYPE_25','Normal'),\n",
    "                   ('Shaqiri','Normal'),('Akinfenwa','Normal')])"
   ]
  },
  {
   "cell_type": "code",
   "execution_count": 32,
   "metadata": {},
   "outputs": [],
   "source": [
    "for k,v in replace_dict.items():\n",
    "    df['Body Type'].replace(k,v,inplace=True)"
   ]
  },
  {
   "cell_type": "code",
   "execution_count": 33,
   "metadata": {},
   "outputs": [
    {
     "data": {
      "text/plain": [
       "Normal    10601\n",
       "Lean       6418\n",
       "Stocky     1140\n",
       "Name: Body Type, dtype: int64"
      ]
     },
     "execution_count": 33,
     "metadata": {},
     "output_type": "execute_result"
    }
   ],
   "source": [
    "df['Body Type'].value_counts()"
   ]
  },
  {
   "cell_type": "code",
   "execution_count": 34,
   "metadata": {},
   "outputs": [],
   "source": [
    "df['Body Type'].fillna('Normal',inplace=True)"
   ]
  },
  {
   "cell_type": "code",
   "execution_count": 35,
   "metadata": {},
   "outputs": [
    {
     "data": {
      "text/plain": [
       "Unnamed: 0                      0\n",
       "ID                              0\n",
       "Name                            0\n",
       "Age                             0\n",
       "Photo                           0\n",
       "Nationality                     0\n",
       "Flag                            0\n",
       "Overall                         0\n",
       "Potential                       0\n",
       "Club                          241\n",
       "Club Logo                       0\n",
       "Value                           0\n",
       "Wage                            0\n",
       "Special                         0\n",
       "Preferred Foot                  0\n",
       "International Reputation        0\n",
       "Weak Foot                       0\n",
       "Skill Moves                     0\n",
       "Work Rate                       0\n",
       "Body Type                       0\n",
       "Real Face                      48\n",
       "Position                       60\n",
       "Jersey Number                  60\n",
       "Joined                       1553\n",
       "Loaned From                 16943\n",
       "Contract Valid Until          289\n",
       "Height                          0\n",
       "Weight                          0\n",
       "LS                              0\n",
       "ST                              0\n",
       "RS                              0\n",
       "LW                              0\n",
       "LF                              0\n",
       "CF                              0\n",
       "RF                              0\n",
       "RW                              0\n",
       "LAM                             0\n",
       "CAM                             0\n",
       "RAM                             0\n",
       "LM                              0\n",
       "LCM                             0\n",
       "CM                              0\n",
       "RCM                             0\n",
       "RM                              0\n",
       "LWB                             0\n",
       "LDM                             0\n",
       "CDM                             0\n",
       "RDM                             0\n",
       "RWB                             0\n",
       "LB                              0\n",
       "LCB                             0\n",
       "CB                              0\n",
       "RCB                             0\n",
       "RB                              0\n",
       "Crossing                        0\n",
       "Finishing                       0\n",
       "HeadingAccuracy                 0\n",
       "ShortPassing                    0\n",
       "Volleys                         0\n",
       "Dribbling                       0\n",
       "Curve                           0\n",
       "FKAccuracy                      0\n",
       "LongPassing                     0\n",
       "BallControl                     0\n",
       "Acceleration                    0\n",
       "SprintSpeed                     0\n",
       "Agility                         0\n",
       "Reactions                       0\n",
       "Balance                         0\n",
       "ShotPower                       0\n",
       "Jumping                         0\n",
       "Stamina                         0\n",
       "Strength                        0\n",
       "LongShots                       0\n",
       "Aggression                      0\n",
       "Interceptions                   0\n",
       "Positioning                     0\n",
       "Vision                          0\n",
       "Penalties                       0\n",
       "Composure                       0\n",
       "Marking                         0\n",
       "StandingTackle                  0\n",
       "SlidingTackle                   0\n",
       "GKDiving                        0\n",
       "GKHandling                      0\n",
       "GKKicking                       0\n",
       "GKPositioning                   0\n",
       "GKReflexes                      0\n",
       "Release Clause               1564\n",
       "dtype: int64"
      ]
     },
     "execution_count": 35,
     "metadata": {},
     "output_type": "execute_result"
    }
   ],
   "source": [
    "df.isnull().sum()"
   ]
  },
  {
   "cell_type": "code",
   "execution_count": 36,
   "metadata": {},
   "outputs": [],
   "source": [
    "df['Club'].fillna('Unknown',inplace=True)\n",
    "df['Position'].fillna('Unknown',inplace=True)"
   ]
  },
  {
   "cell_type": "code",
   "execution_count": 37,
   "metadata": {},
   "outputs": [
    {
     "data": {
      "text/plain": [
       "Unnamed: 0                      0\n",
       "ID                              0\n",
       "Name                            0\n",
       "Age                             0\n",
       "Photo                           0\n",
       "Nationality                     0\n",
       "Flag                            0\n",
       "Overall                         0\n",
       "Potential                       0\n",
       "Club                            0\n",
       "Club Logo                       0\n",
       "Value                           0\n",
       "Wage                            0\n",
       "Special                         0\n",
       "Preferred Foot                  0\n",
       "International Reputation        0\n",
       "Weak Foot                       0\n",
       "Skill Moves                     0\n",
       "Work Rate                       0\n",
       "Body Type                       0\n",
       "Real Face                      48\n",
       "Position                        0\n",
       "Jersey Number                  60\n",
       "Joined                       1553\n",
       "Loaned From                 16943\n",
       "Contract Valid Until          289\n",
       "Height                          0\n",
       "Weight                          0\n",
       "LS                              0\n",
       "ST                              0\n",
       "RS                              0\n",
       "LW                              0\n",
       "LF                              0\n",
       "CF                              0\n",
       "RF                              0\n",
       "RW                              0\n",
       "LAM                             0\n",
       "CAM                             0\n",
       "RAM                             0\n",
       "LM                              0\n",
       "LCM                             0\n",
       "CM                              0\n",
       "RCM                             0\n",
       "RM                              0\n",
       "LWB                             0\n",
       "LDM                             0\n",
       "CDM                             0\n",
       "RDM                             0\n",
       "RWB                             0\n",
       "LB                              0\n",
       "LCB                             0\n",
       "CB                              0\n",
       "RCB                             0\n",
       "RB                              0\n",
       "Crossing                        0\n",
       "Finishing                       0\n",
       "HeadingAccuracy                 0\n",
       "ShortPassing                    0\n",
       "Volleys                         0\n",
       "Dribbling                       0\n",
       "Curve                           0\n",
       "FKAccuracy                      0\n",
       "LongPassing                     0\n",
       "BallControl                     0\n",
       "Acceleration                    0\n",
       "SprintSpeed                     0\n",
       "Agility                         0\n",
       "Reactions                       0\n",
       "Balance                         0\n",
       "ShotPower                       0\n",
       "Jumping                         0\n",
       "Stamina                         0\n",
       "Strength                        0\n",
       "LongShots                       0\n",
       "Aggression                      0\n",
       "Interceptions                   0\n",
       "Positioning                     0\n",
       "Vision                          0\n",
       "Penalties                       0\n",
       "Composure                       0\n",
       "Marking                         0\n",
       "StandingTackle                  0\n",
       "SlidingTackle                   0\n",
       "GKDiving                        0\n",
       "GKHandling                      0\n",
       "GKKicking                       0\n",
       "GKPositioning                   0\n",
       "GKReflexes                      0\n",
       "Release Clause               1564\n",
       "dtype: int64"
      ]
     },
     "execution_count": 37,
     "metadata": {},
     "output_type": "execute_result"
    }
   ],
   "source": [
    "df.isnull().sum()"
   ]
  },
  {
   "cell_type": "code",
   "execution_count": 38,
   "metadata": {},
   "outputs": [
    {
     "data": {
      "text/plain": [
       "Index(['Unnamed: 0', 'ID', 'Name', 'Age', 'Photo', 'Nationality', 'Flag',\n",
       "       'Overall', 'Potential', 'Club', 'Club Logo', 'Value', 'Wage', 'Special',\n",
       "       'Preferred Foot', 'International Reputation', 'Weak Foot',\n",
       "       'Skill Moves', 'Work Rate', 'Body Type', 'Real Face', 'Position',\n",
       "       'Jersey Number', 'Joined', 'Loaned From', 'Contract Valid Until',\n",
       "       'Height', 'Weight', 'LS', 'ST', 'RS', 'LW', 'LF', 'CF', 'RF', 'RW',\n",
       "       'LAM', 'CAM', 'RAM', 'LM', 'LCM', 'CM', 'RCM', 'RM', 'LWB', 'LDM',\n",
       "       'CDM', 'RDM', 'RWB', 'LB', 'LCB', 'CB', 'RCB', 'RB', 'Crossing',\n",
       "       'Finishing', 'HeadingAccuracy', 'ShortPassing', 'Volleys', 'Dribbling',\n",
       "       'Curve', 'FKAccuracy', 'LongPassing', 'BallControl', 'Acceleration',\n",
       "       'SprintSpeed', 'Agility', 'Reactions', 'Balance', 'ShotPower',\n",
       "       'Jumping', 'Stamina', 'Strength', 'LongShots', 'Aggression',\n",
       "       'Interceptions', 'Positioning', 'Vision', 'Penalties', 'Composure',\n",
       "       'Marking', 'StandingTackle', 'SlidingTackle', 'GKDiving', 'GKHandling',\n",
       "       'GKKicking', 'GKPositioning', 'GKReflexes', 'Release Clause'],\n",
       "      dtype='object')"
      ]
     },
     "execution_count": 38,
     "metadata": {},
     "output_type": "execute_result"
    }
   ],
   "source": [
    "df.columns"
   ]
  },
  {
   "cell_type": "code",
   "execution_count": 39,
   "metadata": {},
   "outputs": [],
   "source": [
    "df.drop(['Unnamed: 0','ID','Flag','Release Clause',\n",
    "           'Contract Valid Until','Loaned From','Joined',\n",
    "           'Jersey Number','Real Face','Club Logo','Flag','Photo'],axis=1,inplace=True)"
   ]
  },
  {
   "cell_type": "code",
   "execution_count": 40,
   "metadata": {},
   "outputs": [
    {
     "name": "stdout",
     "output_type": "stream",
     "text": [
      "<class 'pandas.core.frame.DataFrame'>\n",
      "RangeIndex: 18207 entries, 0 to 18206\n",
      "Data columns (total 78 columns):\n",
      " #   Column                    Non-Null Count  Dtype  \n",
      "---  ------                    --------------  -----  \n",
      " 0   Name                      18207 non-null  object \n",
      " 1   Age                       18207 non-null  int64  \n",
      " 2   Nationality               18207 non-null  object \n",
      " 3   Overall                   18207 non-null  int64  \n",
      " 4   Potential                 18207 non-null  int64  \n",
      " 5   Club                      18207 non-null  object \n",
      " 6   Value                     18207 non-null  object \n",
      " 7   Wage                      18207 non-null  object \n",
      " 8   Special                   18207 non-null  int64  \n",
      " 9   Preferred Foot            18207 non-null  object \n",
      " 10  International Reputation  18207 non-null  float64\n",
      " 11  Weak Foot                 18207 non-null  float64\n",
      " 12  Skill Moves               18207 non-null  float64\n",
      " 13  Work Rate                 18207 non-null  object \n",
      " 14  Body Type                 18207 non-null  object \n",
      " 15  Position                  18207 non-null  object \n",
      " 16  Height                    18207 non-null  int64  \n",
      " 17  Weight                    18207 non-null  int64  \n",
      " 18  LS                        18207 non-null  int64  \n",
      " 19  ST                        18207 non-null  int64  \n",
      " 20  RS                        18207 non-null  int64  \n",
      " 21  LW                        18207 non-null  int64  \n",
      " 22  LF                        18207 non-null  int64  \n",
      " 23  CF                        18207 non-null  int64  \n",
      " 24  RF                        18207 non-null  int64  \n",
      " 25  RW                        18207 non-null  int64  \n",
      " 26  LAM                       18207 non-null  int64  \n",
      " 27  CAM                       18207 non-null  int64  \n",
      " 28  RAM                       18207 non-null  int64  \n",
      " 29  LM                        18207 non-null  int64  \n",
      " 30  LCM                       18207 non-null  int64  \n",
      " 31  CM                        18207 non-null  int64  \n",
      " 32  RCM                       18207 non-null  int64  \n",
      " 33  RM                        18207 non-null  int64  \n",
      " 34  LWB                       18207 non-null  int64  \n",
      " 35  LDM                       18207 non-null  int64  \n",
      " 36  CDM                       18207 non-null  int64  \n",
      " 37  RDM                       18207 non-null  int64  \n",
      " 38  RWB                       18207 non-null  int64  \n",
      " 39  LB                        18207 non-null  int64  \n",
      " 40  LCB                       18207 non-null  int64  \n",
      " 41  CB                        18207 non-null  int64  \n",
      " 42  RCB                       18207 non-null  int64  \n",
      " 43  RB                        18207 non-null  int64  \n",
      " 44  Crossing                  18207 non-null  float64\n",
      " 45  Finishing                 18207 non-null  float64\n",
      " 46  HeadingAccuracy           18207 non-null  float64\n",
      " 47  ShortPassing              18207 non-null  float64\n",
      " 48  Volleys                   18207 non-null  float64\n",
      " 49  Dribbling                 18207 non-null  float64\n",
      " 50  Curve                     18207 non-null  float64\n",
      " 51  FKAccuracy                18207 non-null  float64\n",
      " 52  LongPassing               18207 non-null  float64\n",
      " 53  BallControl               18207 non-null  float64\n",
      " 54  Acceleration              18207 non-null  float64\n",
      " 55  SprintSpeed               18207 non-null  float64\n",
      " 56  Agility                   18207 non-null  float64\n",
      " 57  Reactions                 18207 non-null  float64\n",
      " 58  Balance                   18207 non-null  float64\n",
      " 59  ShotPower                 18207 non-null  float64\n",
      " 60  Jumping                   18207 non-null  float64\n",
      " 61  Stamina                   18207 non-null  float64\n",
      " 62  Strength                  18207 non-null  float64\n",
      " 63  LongShots                 18207 non-null  float64\n",
      " 64  Aggression                18207 non-null  float64\n",
      " 65  Interceptions             18207 non-null  float64\n",
      " 66  Positioning               18207 non-null  float64\n",
      " 67  Vision                    18207 non-null  float64\n",
      " 68  Penalties                 18207 non-null  float64\n",
      " 69  Composure                 18207 non-null  float64\n",
      " 70  Marking                   18207 non-null  float64\n",
      " 71  StandingTackle            18207 non-null  float64\n",
      " 72  SlidingTackle             18207 non-null  float64\n",
      " 73  GKDiving                  18207 non-null  float64\n",
      " 74  GKHandling                18207 non-null  float64\n",
      " 75  GKKicking                 18207 non-null  float64\n",
      " 76  GKPositioning             18207 non-null  float64\n",
      " 77  GKReflexes                18207 non-null  float64\n",
      "dtypes: float64(37), int64(32), object(9)\n",
      "memory usage: 10.8+ MB\n"
     ]
    }
   ],
   "source": [
    "df.info()"
   ]
  },
  {
   "cell_type": "code",
   "execution_count": 41,
   "metadata": {},
   "outputs": [
    {
     "data": {
      "text/plain": [
       "array(['RF', 'ST', 'LW', 'GK', 'RCM', 'LF', 'RS', 'RCB', 'LCM', 'CB',\n",
       "       'LDM', 'CAM', 'CDM', 'LS', 'LCB', 'RM', 'LAM', 'LM', 'LB', 'RDM',\n",
       "       'RW', 'CM', 'RB', 'RAM', 'CF', 'RWB', 'LWB', 'Unknown'],\n",
       "      dtype=object)"
      ]
     },
     "execution_count": 41,
     "metadata": {},
     "output_type": "execute_result"
    }
   ],
   "source": [
    "df.Position.unique()"
   ]
  },
  {
   "cell_type": "markdown",
   "metadata": {},
   "source": [
    "## EDA"
   ]
  },
  {
   "cell_type": "code",
   "execution_count": 42,
   "metadata": {},
   "outputs": [
    {
     "name": "stderr",
     "output_type": "stream",
     "text": [
      "C:\\Users\\KARTIK\\anaconda3\\lib\\site-packages\\seaborn\\_decorators.py:36: FutureWarning: Pass the following variable as a keyword arg: x. From version 0.12, the only valid positional argument will be `data`, and passing other arguments without an explicit keyword will result in an error or misinterpretation.\n",
      "  warnings.warn(\n"
     ]
    },
    {
     "data": {
      "text/plain": [
       "<AxesSubplot:xlabel='Age', ylabel='count'>"
      ]
     },
     "execution_count": 42,
     "metadata": {},
     "output_type": "execute_result"
    },
    {
     "data": {
      "image/png": "[encoded data removed]",
      "text/plain": [
       "<Figure size 864x504 with 1 Axes>"
      ]
     },
     "metadata": {},
     "output_type": "display_data"
    }
   ],
   "source": [
    "plt.figure(figsize=(12,7))\n",
    "sns.countplot(df.Age)"
   ]
  },
  {
   "cell_type": "code",
   "execution_count": 43,
   "metadata": {},
   "outputs": [
    {
     "name": "stderr",
     "output_type": "stream",
     "text": [
      "C:\\Users\\KARTIK\\anaconda3\\lib\\site-packages\\seaborn\\_decorators.py:36: FutureWarning: Pass the following variable as a keyword arg: x. From version 0.12, the only valid positional argument will be `data`, and passing other arguments without an explicit keyword will result in an error or misinterpretation.\n",
      "  warnings.warn(\n"
     ]
    },
    {
     "data": {
      "text/plain": [
       "<AxesSubplot:xlabel='Work Rate', ylabel='count'>"
      ]
     },
     "execution_count": 43,
     "metadata": {},
     "output_type": "execute_result"
    },
    {
     "data": {
      "image/png": "[encoded data removed]",
      "text/plain": [
       "<Figure size 864x504 with 1 Axes>"
      ]
     },
     "metadata": {},
     "output_type": "display_data"
    }
   ],
   "source": [
    "plt.figure(figsize=(12,7))\n",
    "sns.countplot(df['Work Rate'])"
   ]
  },
  {
   "cell_type": "code",
   "execution_count": 44,
   "metadata": {},
   "outputs": [
    {
     "name": "stderr",
     "output_type": "stream",
     "text": [
      "C:\\Users\\KARTIK\\anaconda3\\lib\\site-packages\\seaborn\\_decorators.py:36: FutureWarning: Pass the following variable as a keyword arg: x. From version 0.12, the only valid positional argument will be `data`, and passing other arguments without an explicit keyword will result in an error or misinterpretation.\n",
      "  warnings.warn(\n"
     ]
    },
    {
     "data": {
      "text/plain": [
       "<AxesSubplot:xlabel='Preferred Foot', ylabel='count'>"
      ]
     },
     "execution_count": 44,
     "metadata": {},
     "output_type": "execute_result"
    },
    {
     "data": {
      "image/png": "[encoded data removed]",
      "text/plain": [
       "<Figure size 864x504 with 1 Axes>"
      ]
     },
     "metadata": {},
     "output_type": "display_data"
    }
   ],
   "source": [
    "plt.figure(figsize=(12,7))\n",
    "sns.countplot(df['Preferred Foot'])"
   ]
  },
  {
   "cell_type": "code",
   "execution_count": 45,
   "metadata": {},
   "outputs": [
    {
     "name": "stderr",
     "output_type": "stream",
     "text": [
      "C:\\Users\\KARTIK\\anaconda3\\lib\\site-packages\\seaborn\\_decorators.py:36: FutureWarning: Pass the following variable as a keyword arg: x. From version 0.12, the only valid positional argument will be `data`, and passing other arguments without an explicit keyword will result in an error or misinterpretation.\n",
      "  warnings.warn(\n"
     ]
    },
    {
     "data": {
      "text/plain": [
       "<AxesSubplot:xlabel='Body Type', ylabel='count'>"
      ]
     },
     "execution_count": 45,
     "metadata": {},
     "output_type": "execute_result"
    },
    {
     "data": {
      "image/png": "[encoded data removed]",
      "text/plain": [
       "<Figure size 864x504 with 1 Axes>"
      ]
     },
     "metadata": {},
     "output_type": "display_data"
    }
   ],
   "source": [
    "plt.figure(figsize=(12,7))\n",
    "sns.countplot(df['Body Type'])"
   ]
  },
  {
   "cell_type": "code",
   "execution_count": 46,
   "metadata": {},
   "outputs": [
    {
     "data": {
      "text/plain": [
       "<AxesSubplot:xlabel='Age', ylabel='Potential'>"
      ]
     },
     "execution_count": 46,
     "metadata": {},
     "output_type": "execute_result"
    },
    {
     "data": {
      "image/png": "[encoded data removed]",
      "text/plain": [
       "<Figure size 864x504 with 1 Axes>"
      ]
     },
     "metadata": {},
     "output_type": "display_data"
    }
   ],
   "source": [
    "plt.figure(figsize=(12,7))\n",
    "sns.lineplot(x=df['Age'],y=df.Potential)\n",
    "sns.lineplot(x=df['Age'],y=df.Overall)"
   ]
  },
  {
   "cell_type": "markdown",
   "metadata": {},
   "source": [
    "## Data preparation for ML model"
   ]
  },
  {
   "cell_type": "code",
   "execution_count": 47,
   "metadata": {},
   "outputs": [],
   "source": [
    "df2=df"
   ]
  },
  {
   "cell_type": "code",
   "execution_count": 48,
   "metadata": {},
   "outputs": [
    {
     "data": {
      "text/plain": [
       "Index(['Name', 'Age', 'Nationality', 'Overall', 'Potential', 'Club', 'Value',\n",
       "       'Wage', 'Special', 'Preferred Foot', 'International Reputation',\n",
       "       'Weak Foot', 'Skill Moves', 'Work Rate', 'Body Type', 'Position',\n",
       "       'Height', 'Weight', 'LS', 'ST', 'RS', 'LW', 'LF', 'CF', 'RF', 'RW',\n",
       "       'LAM', 'CAM', 'RAM', 'LM', 'LCM', 'CM', 'RCM', 'RM', 'LWB', 'LDM',\n",
       "       'CDM', 'RDM', 'RWB', 'LB', 'LCB', 'CB', 'RCB', 'RB', 'Crossing',\n",
       "       'Finishing', 'HeadingAccuracy', 'ShortPassing', 'Volleys', 'Dribbling',\n",
       "       'Curve', 'FKAccuracy', 'LongPassing', 'BallControl', 'Acceleration',\n",
       "       'SprintSpeed', 'Agility', 'Reactions', 'Balance', 'ShotPower',\n",
       "       'Jumping', 'Stamina', 'Strength', 'LongShots', 'Aggression',\n",
       "       'Interceptions', 'Positioning', 'Vision', 'Penalties', 'Composure',\n",
       "       'Marking', 'StandingTackle', 'SlidingTackle', 'GKDiving', 'GKHandling',\n",
       "       'GKKicking', 'GKPositioning', 'GKReflexes'],\n",
       "      dtype='object')"
      ]
     },
     "execution_count": 48,
     "metadata": {},
     "output_type": "execute_result"
    }
   ],
   "source": [
    "df2.columns"
   ]
  },
  {
   "cell_type": "code",
   "execution_count": 49,
   "metadata": {},
   "outputs": [],
   "source": [
    "df2.drop(['Name','Nationality','Wage','Value','Club'],axis=1,inplace=True)"
   ]
  },
  {
   "cell_type": "code",
   "execution_count": 50,
   "metadata": {},
   "outputs": [
    {
     "name": "stdout",
     "output_type": "stream",
     "text": [
      "<class 'pandas.core.frame.DataFrame'>\n",
      "RangeIndex: 18207 entries, 0 to 18206\n",
      "Data columns (total 73 columns):\n",
      " #   Column                    Non-Null Count  Dtype  \n",
      "---  ------                    --------------  -----  \n",
      " 0   Age                       18207 non-null  int64  \n",
      " 1   Overall                   18207 non-null  int64  \n",
      " 2   Potential                 18207 non-null  int64  \n",
      " 3   Special                   18207 non-null  int64  \n",
      " 4   Preferred Foot            18207 non-null  object \n",
      " 5   International Reputation  18207 non-null  float64\n",
      " 6   Weak Foot                 18207 non-null  float64\n",
      " 7   Skill Moves               18207 non-null  float64\n",
      " 8   Work Rate                 18207 non-null  object \n",
      " 9   Body Type                 18207 non-null  object \n",
      " 10  Position                  18207 non-null  object \n",
      " 11  Height                    18207 non-null  int64  \n",
      " 12  Weight                    18207 non-null  int64  \n",
      " 13  LS                        18207 non-null  int64  \n",
      " 14  ST                        18207 non-null  int64  \n",
      " 15  RS                        18207 non-null  int64  \n",
      " 16  LW                        18207 non-null  int64  \n",
      " 17  LF                        18207 non-null  int64  \n",
      " 18  CF                        18207 non-null  int64  \n",
      " 19  RF                        18207 non-null  int64  \n",
      " 20  RW                        18207 non-null  int64  \n",
      " 21  LAM                       18207 non-null  int64  \n",
      " 22  CAM                       18207 non-null  int64  \n",
      " 23  RAM                       18207 non-null  int64  \n",
      " 24  LM                        18207 non-null  int64  \n",
      " 25  LCM                       18207 non-null  int64  \n",
      " 26  CM                        18207 non-null  int64  \n",
      " 27  RCM                       18207 non-null  int64  \n",
      " 28  RM                        18207 non-null  int64  \n",
      " 29  LWB                       18207 non-null  int64  \n",
      " 30  LDM                       18207 non-null  int64  \n",
      " 31  CDM                       18207 non-null  int64  \n",
      " 32  RDM                       18207 non-null  int64  \n",
      " 33  RWB                       18207 non-null  int64  \n",
      " 34  LB                        18207 non-null  int64  \n",
      " 35  LCB                       18207 non-null  int64  \n",
      " 36  CB                        18207 non-null  int64  \n",
      " 37  RCB                       18207 non-null  int64  \n",
      " 38  RB                        18207 non-null  int64  \n",
      " 39  Crossing                  18207 non-null  float64\n",
      " 40  Finishing                 18207 non-null  float64\n",
      " 41  HeadingAccuracy           18207 non-null  float64\n",
      " 42  ShortPassing              18207 non-null  float64\n",
      " 43  Volleys                   18207 non-null  float64\n",
      " 44  Dribbling                 18207 non-null  float64\n",
      " 45  Curve                     18207 non-null  float64\n",
      " 46  FKAccuracy                18207 non-null  float64\n",
      " 47  LongPassing               18207 non-null  float64\n",
      " 48  BallControl               18207 non-null  float64\n",
      " 49  Acceleration              18207 non-null  float64\n",
      " 50  SprintSpeed               18207 non-null  float64\n",
      " 51  Agility                   18207 non-null  float64\n",
      " 52  Reactions                 18207 non-null  float64\n",
      " 53  Balance                   18207 non-null  float64\n",
      " 54  ShotPower                 18207 non-null  float64\n",
      " 55  Jumping                   18207 non-null  float64\n",
      " 56  Stamina                   18207 non-null  float64\n",
      " 57  Strength                  18207 non-null  float64\n",
      " 58  LongShots                 18207 non-null  float64\n",
      " 59  Aggression                18207 non-null  float64\n",
      " 60  Interceptions             18207 non-null  float64\n",
      " 61  Positioning               18207 non-null  float64\n",
      " 62  Vision                    18207 non-null  float64\n",
      " 63  Penalties                 18207 non-null  float64\n",
      " 64  Composure                 18207 non-null  float64\n",
      " 65  Marking                   18207 non-null  float64\n",
      " 66  StandingTackle            18207 non-null  float64\n",
      " 67  SlidingTackle             18207 non-null  float64\n",
      " 68  GKDiving                  18207 non-null  float64\n",
      " 69  GKHandling                18207 non-null  float64\n",
      " 70  GKKicking                 18207 non-null  float64\n",
      " 71  GKPositioning             18207 non-null  float64\n",
      " 72  GKReflexes                18207 non-null  float64\n",
      "dtypes: float64(37), int64(32), object(4)\n",
      "memory usage: 10.1+ MB\n"
     ]
    }
   ],
   "source": [
    "df2.info()"
   ]
  },
  {
   "cell_type": "code",
   "execution_count": 51,
   "metadata": {},
   "outputs": [
    {
     "name": "stdout",
     "output_type": "stream",
     "text": [
      "Preferred Foot,2\n",
      "Work Rate,9\n",
      "Body Type,3\n",
      "Position,28\n"
     ]
    }
   ],
   "source": [
    "for col in df2.columns:\n",
    "    if df2[col].dtype=='O':\n",
    "        print('{},{}'.format(col,len(pd.unique(df2[col]))))"
   ]
  },
  {
   "cell_type": "code",
   "execution_count": 52,
   "metadata": {},
   "outputs": [
    {
     "data": {
      "text/plain": [
       "array(['RF', 'ST', 'LW', 'GK', 'RCM', 'LF', 'RS', 'RCB', 'LCM', 'CB',\n",
       "       'LDM', 'CAM', 'CDM', 'LS', 'LCB', 'RM', 'LAM', 'LM', 'LB', 'RDM',\n",
       "       'RW', 'CM', 'RB', 'RAM', 'CF', 'RWB', 'LWB', 'Unknown'],\n",
       "      dtype=object)"
      ]
     },
     "execution_count": 52,
     "metadata": {},
     "output_type": "execute_result"
    }
   ],
   "source": [
    "df2.Position.unique()"
   ]
  },
  {
   "cell_type": "code",
   "execution_count": 53,
   "metadata": {},
   "outputs": [],
   "source": [
    "replace_dict=dict([('RF','Forward'),('ST','Forward'),('LW','Forward'),('RS','Forward'),('RM','Forward'),('CF','Forward'),('LF','Forward'),('LM','Forward'),\n",
    "                   ('RCM','Midfielder'),('CAM','Midfielder'),('LCM','Midfielder'),('LAM','Midfielder'),('LB','Midfielder'),('CM','Midfielder'),('CB','Midfielder'),\n",
    "                   ('CDM','defender'),('RDM','defender'),('LDM','defender'),\n",
    "                   ('GK','Goalkeeper')])"
   ]
  },
  {
   "cell_type": "code",
   "execution_count": 54,
   "metadata": {},
   "outputs": [],
   "source": [
    "for k,v in replace_dict.items():\n",
    "    df['Position'].replace(k,v,inplace=True)"
   ]
  },
  {
   "cell_type": "code",
   "execution_count": 55,
   "metadata": {},
   "outputs": [
    {
     "data": {
      "text/plain": [
       "array(['Forward', 'Goalkeeper', 'Midfielder', 'RCB', 'defender', 'LS',\n",
       "       'LCB', 'RW', 'RB', 'RAM', 'RWB', 'LWB', 'Unknown'], dtype=object)"
      ]
     },
     "execution_count": 55,
     "metadata": {},
     "output_type": "execute_result"
    }
   ],
   "source": [
    "df2.Position.unique()"
   ]
  },
  {
   "cell_type": "code",
   "execution_count": 56,
   "metadata": {},
   "outputs": [],
   "source": [
    "replace_dict=dict([('LS','Forward'),('RW','Forward'),\n",
    "                   ('RCB','Midfielder'),('LCB','Midfielder'),('RAM','Midfielder'),\n",
    "                   ('RB','defender'),('RWB','defender'),('LWB','defender'),\n",
    "                   ('GK','Goalkeeper')])"
   ]
  },
  {
   "cell_type": "code",
   "execution_count": 57,
   "metadata": {},
   "outputs": [],
   "source": [
    "for k,v in replace_dict.items():\n",
    "    df['Position'].replace(k,v,inplace=True)"
   ]
  },
  {
   "cell_type": "code",
   "execution_count": 58,
   "metadata": {},
   "outputs": [
    {
     "data": {
      "text/plain": [
       "array(['Forward', 'Goalkeeper', 'Midfielder', 'defender', 'Unknown'],\n",
       "      dtype=object)"
      ]
     },
     "execution_count": 58,
     "metadata": {},
     "output_type": "execute_result"
    }
   ],
   "source": [
    "df2.Position.unique()"
   ]
  },
  {
   "cell_type": "code",
   "execution_count": 59,
   "metadata": {},
   "outputs": [],
   "source": [
    "dummy=pd.DataFrame()\n",
    "for col in df2.columns:\n",
    "    if df2[col].dtype=='O':\n",
    "        temp=pd.get_dummies(df2[col],drop_first=True,prefix=col)\n",
    "        dummy=pd.concat([dummy,temp] ,axis=1)"
   ]
  },
  {
   "cell_type": "code",
   "execution_count": 60,
   "metadata": {},
   "outputs": [
    {
     "data": {
      "text/plain": [
       "True"
      ]
     },
     "execution_count": 60,
     "metadata": {},
     "output_type": "execute_result"
    }
   ],
   "source": [
    "len(dummy)==len(df2)"
   ]
  },
  {
   "cell_type": "code",
   "execution_count": 61,
   "metadata": {},
   "outputs": [],
   "source": [
    "df_numeric=pd.DataFrame()\n",
    "for col in df2.columns:\n",
    "    if df2[col].dtype!='O':\n",
    "        df_numeric=pd.concat([df_numeric,df[[col]]],axis=1)"
   ]
  },
  {
   "cell_type": "code",
   "execution_count": 62,
   "metadata": {},
   "outputs": [],
   "source": [
    "df_final=pd.concat([dummy,df_numeric],axis=1)"
   ]
  },
  {
   "cell_type": "code",
   "execution_count": 63,
   "metadata": {},
   "outputs": [
    {
     "name": "stdout",
     "output_type": "stream",
     "text": [
      "<class 'pandas.core.frame.DataFrame'>\n",
      "RangeIndex: 18207 entries, 0 to 18206\n",
      "Data columns (total 84 columns):\n",
      " #   Column                    Non-Null Count  Dtype  \n",
      "---  ------                    --------------  -----  \n",
      " 0   Preferred Foot_Right      18207 non-null  uint8  \n",
      " 1   Work Rate_High/ Low       18207 non-null  uint8  \n",
      " 2   Work Rate_High/ Medium    18207 non-null  uint8  \n",
      " 3   Work Rate_Low/ High       18207 non-null  uint8  \n",
      " 4   Work Rate_Low/ Low        18207 non-null  uint8  \n",
      " 5   Work Rate_Low/ Medium     18207 non-null  uint8  \n",
      " 6   Work Rate_Medium/ High    18207 non-null  uint8  \n",
      " 7   Work Rate_Medium/ Low     18207 non-null  uint8  \n",
      " 8   Work Rate_Medium/ Medium  18207 non-null  uint8  \n",
      " 9   Body Type_Normal          18207 non-null  uint8  \n",
      " 10  Body Type_Stocky          18207 non-null  uint8  \n",
      " 11  Position_Goalkeeper       18207 non-null  uint8  \n",
      " 12  Position_Midfielder       18207 non-null  uint8  \n",
      " 13  Position_Unknown          18207 non-null  uint8  \n",
      " 14  Position_defender         18207 non-null  uint8  \n",
      " 15  Age                       18207 non-null  int64  \n",
      " 16  Overall                   18207 non-null  int64  \n",
      " 17  Potential                 18207 non-null  int64  \n",
      " 18  Special                   18207 non-null  int64  \n",
      " 19  International Reputation  18207 non-null  float64\n",
      " 20  Weak Foot                 18207 non-null  float64\n",
      " 21  Skill Moves               18207 non-null  float64\n",
      " 22  Height                    18207 non-null  int64  \n",
      " 23  Weight                    18207 non-null  int64  \n",
      " 24  LS                        18207 non-null  int64  \n",
      " 25  ST                        18207 non-null  int64  \n",
      " 26  RS                        18207 non-null  int64  \n",
      " 27  LW                        18207 non-null  int64  \n",
      " 28  LF                        18207 non-null  int64  \n",
      " 29  CF                        18207 non-null  int64  \n",
      " 30  RF                        18207 non-null  int64  \n",
      " 31  RW                        18207 non-null  int64  \n",
      " 32  LAM                       18207 non-null  int64  \n",
      " 33  CAM                       18207 non-null  int64  \n",
      " 34  RAM                       18207 non-null  int64  \n",
      " 35  LM                        18207 non-null  int64  \n",
      " 36  LCM                       18207 non-null  int64  \n",
      " 37  CM                        18207 non-null  int64  \n",
      " 38  RCM                       18207 non-null  int64  \n",
      " 39  RM                        18207 non-null  int64  \n",
      " 40  LWB                       18207 non-null  int64  \n",
      " 41  LDM                       18207 non-null  int64  \n",
      " 42  CDM                       18207 non-null  int64  \n",
      " 43  RDM                       18207 non-null  int64  \n",
      " 44  RWB                       18207 non-null  int64  \n",
      " 45  LB                        18207 non-null  int64  \n",
      " 46  LCB                       18207 non-null  int64  \n",
      " 47  CB                        18207 non-null  int64  \n",
      " 48  RCB                       18207 non-null  int64  \n",
      " 49  RB                        18207 non-null  int64  \n",
      " 50  Crossing                  18207 non-null  float64\n",
      " 51  Finishing                 18207 non-null  float64\n",
      " 52  HeadingAccuracy           18207 non-null  float64\n",
      " 53  ShortPassing              18207 non-null  float64\n",
      " 54  Volleys                   18207 non-null  float64\n",
      " 55  Dribbling                 18207 non-null  float64\n",
      " 56  Curve                     18207 non-null  float64\n",
      " 57  FKAccuracy                18207 non-null  float64\n",
      " 58  LongPassing               18207 non-null  float64\n",
      " 59  BallControl               18207 non-null  float64\n",
      " 60  Acceleration              18207 non-null  float64\n",
      " 61  SprintSpeed               18207 non-null  float64\n",
      " 62  Agility                   18207 non-null  float64\n",
      " 63  Reactions                 18207 non-null  float64\n",
      " 64  Balance                   18207 non-null  float64\n",
      " 65  ShotPower                 18207 non-null  float64\n",
      " 66  Jumping                   18207 non-null  float64\n",
      " 67  Stamina                   18207 non-null  float64\n",
      " 68  Strength                  18207 non-null  float64\n",
      " 69  LongShots                 18207 non-null  float64\n",
      " 70  Aggression                18207 non-null  float64\n",
      " 71  Interceptions             18207 non-null  float64\n",
      " 72  Positioning               18207 non-null  float64\n",
      " 73  Vision                    18207 non-null  float64\n",
      " 74  Penalties                 18207 non-null  float64\n",
      " 75  Composure                 18207 non-null  float64\n",
      " 76  Marking                   18207 non-null  float64\n",
      " 77  StandingTackle            18207 non-null  float64\n",
      " 78  SlidingTackle             18207 non-null  float64\n",
      " 79  GKDiving                  18207 non-null  float64\n",
      " 80  GKHandling                18207 non-null  float64\n",
      " 81  GKKicking                 18207 non-null  float64\n",
      " 82  GKPositioning             18207 non-null  float64\n",
      " 83  GKReflexes                18207 non-null  float64\n",
      "dtypes: float64(37), int64(32), uint8(15)\n",
      "memory usage: 9.8 MB\n"
     ]
    }
   ],
   "source": [
    "df_final.info()"
   ]
  },
  {
   "cell_type": "code",
   "execution_count": 64,
   "metadata": {},
   "outputs": [
    {
     "data": {
      "text/plain": [
       "Index(['Preferred Foot_Right', 'Work Rate_High/ Low', 'Work Rate_High/ Medium',\n",
       "       'Work Rate_Low/ High', 'Work Rate_Low/ Low', 'Work Rate_Low/ Medium',\n",
       "       'Work Rate_Medium/ High', 'Work Rate_Medium/ Low',\n",
       "       'Work Rate_Medium/ Medium', 'Body Type_Normal', 'Body Type_Stocky',\n",
       "       'Position_Goalkeeper', 'Position_Midfielder', 'Position_Unknown',\n",
       "       'Position_defender', 'Age', 'Overall', 'Potential', 'Special',\n",
       "       'International Reputation', 'Weak Foot', 'Skill Moves', 'Height',\n",
       "       'Weight', 'LS', 'ST', 'RS', 'LW', 'LF', 'CF', 'RF', 'RW', 'LAM', 'CAM',\n",
       "       'RAM', 'LM', 'LCM', 'CM', 'RCM', 'RM', 'LWB', 'LDM', 'CDM', 'RDM',\n",
       "       'RWB', 'LB', 'LCB', 'CB', 'RCB', 'RB', 'Crossing', 'Finishing',\n",
       "       'HeadingAccuracy', 'ShortPassing', 'Volleys', 'Dribbling', 'Curve',\n",
       "       'FKAccuracy', 'LongPassing', 'BallControl', 'Acceleration',\n",
       "       'SprintSpeed', 'Agility', 'Reactions', 'Balance', 'ShotPower',\n",
       "       'Jumping', 'Stamina', 'Strength', 'LongShots', 'Aggression',\n",
       "       'Interceptions', 'Positioning', 'Vision', 'Penalties', 'Composure',\n",
       "       'Marking', 'StandingTackle', 'SlidingTackle', 'GKDiving', 'GKHandling',\n",
       "       'GKKicking', 'GKPositioning', 'GKReflexes'],\n",
       "      dtype='object')"
      ]
     },
     "execution_count": 64,
     "metadata": {},
     "output_type": "execute_result"
    }
   ],
   "source": [
    "df_final.columns"
   ]
  },
  {
   "cell_type": "code",
   "execution_count": 65,
   "metadata": {},
   "outputs": [
    {
     "data": {
      "text/plain": [
       "(18207, 84)"
      ]
     },
     "execution_count": 65,
     "metadata": {},
     "output_type": "execute_result"
    }
   ],
   "source": [
    "df_final.shape"
   ]
  },
  {
   "cell_type": "code",
   "execution_count": 91,
   "metadata": {},
   "outputs": [
    {
     "data": {
      "text/plain": [
       "<AxesSubplot:>"
      ]
     },
     "execution_count": 91,
     "metadata": {},
     "output_type": "execute_result"
    },
    {
     "data": {
      "image/png": "[encoded data removed]",
      "text/plain": [
       "<Figure size 864x504 with 2 Axes>"
      ]
     },
     "metadata": {},
     "output_type": "display_data"
    }
   ],
   "source": [
    "plt.figure(figsize=(12,7))\n",
    "sns.heatmap(df_final.corr())"
   ]
  },
  {
   "cell_type": "code",
   "execution_count": null,
   "metadata": {},
   "outputs": [],
   "source": []
  },
  {
   "cell_type": "markdown",
   "metadata": {},
   "source": [
    "## Data Modelling"
   ]
  },
  {
   "cell_type": "code",
   "execution_count": 66,
   "metadata": {},
   "outputs": [],
   "source": [
    "from sklearn.model_selection import train_test_split"
   ]
  },
  {
   "cell_type": "code",
   "execution_count": 67,
   "metadata": {},
   "outputs": [],
   "source": [
    "X=df_final.drop('Overall',axis=1)\n",
    "Y=df_final.Overall"
   ]
  },
  {
   "cell_type": "code",
   "execution_count": 68,
   "metadata": {},
   "outputs": [],
   "source": [
    "x_train,x_test,y_train,y_test= train_test_split(X,Y,test_size=0.2,random_state=11)"
   ]
  },
  {
   "cell_type": "code",
   "execution_count": 69,
   "metadata": {},
   "outputs": [
    {
     "data": {
      "text/plain": [
       "(14565, 83)"
      ]
     },
     "execution_count": 69,
     "metadata": {},
     "output_type": "execute_result"
    }
   ],
   "source": [
    "x_train.shape"
   ]
  },
  {
   "cell_type": "markdown",
   "metadata": {},
   "source": [
    "## Linear regression using Sklearn"
   ]
  },
  {
   "cell_type": "code",
   "execution_count": 70,
   "metadata": {},
   "outputs": [],
   "source": [
    "from sklearn.linear_model import LinearRegression"
   ]
  },
  {
   "cell_type": "code",
   "execution_count": 71,
   "metadata": {},
   "outputs": [],
   "source": [
    "model=LinearRegression()"
   ]
  },
  {
   "cell_type": "code",
   "execution_count": 72,
   "metadata": {},
   "outputs": [
    {
     "data": {
      "text/plain": [
       "LinearRegression()"
      ]
     },
     "execution_count": 72,
     "metadata": {},
     "output_type": "execute_result"
    }
   ],
   "source": [
    "model.fit(x_train,y_train)"
   ]
  },
  {
   "cell_type": "code",
   "execution_count": 73,
   "metadata": {},
   "outputs": [],
   "source": [
    "y_pred_test=model.predict(x_test)\n",
    "y_pred_train= model.predict(x_train)"
   ]
  },
  {
   "cell_type": "code",
   "execution_count": 74,
   "metadata": {},
   "outputs": [],
   "source": [
    "from sklearn.metrics import r2_score,mean_squared_error"
   ]
  },
  {
   "cell_type": "code",
   "execution_count": 75,
   "metadata": {},
   "outputs": [],
   "source": [
    "r2_train=r2_score(y_train,y_pred_train)\n",
    "r2_test=r2_score(y_test,y_pred_test)"
   ]
  },
  {
   "cell_type": "code",
   "execution_count": 76,
   "metadata": {},
   "outputs": [
    {
     "data": {
      "text/plain": [
       "(0.9319413278762038, 0.9290883688111745)"
      ]
     },
     "execution_count": 76,
     "metadata": {},
     "output_type": "execute_result"
    }
   ],
   "source": [
    "(r2_train,r2_test)"
   ]
  },
  {
   "cell_type": "code",
   "execution_count": 77,
   "metadata": {},
   "outputs": [
    {
     "data": {
      "text/plain": [
       "1.804217307881791"
      ]
     },
     "execution_count": 77,
     "metadata": {},
     "output_type": "execute_result"
    }
   ],
   "source": [
    "np.sqrt(mean_squared_error(y_train,y_pred_train))"
   ]
  },
  {
   "cell_type": "code",
   "execution_count": 78,
   "metadata": {},
   "outputs": [
    {
     "data": {
      "text/plain": [
       "1.831828307209525"
      ]
     },
     "execution_count": 78,
     "metadata": {},
     "output_type": "execute_result"
    }
   ],
   "source": [
    "np.sqrt(mean_squared_error(y_test,y_pred_test))"
   ]
  },
  {
   "cell_type": "code",
   "execution_count": 92,
   "metadata": {},
   "outputs": [],
   "source": [
    "x_train,x_test,y_train,y_test= train_test_split(X,Y,test_size=0.5,random_state=123)"
   ]
  },
  {
   "cell_type": "code",
   "execution_count": 95,
   "metadata": {},
   "outputs": [],
   "source": [
    "model.fit(x_train,y_train)\n",
    "y_pred_test=model.predict(x_test)\n",
    "y_pred_train= model.predict(x_train)"
   ]
  },
  {
   "cell_type": "code",
   "execution_count": 96,
   "metadata": {},
   "outputs": [
    {
     "data": {
      "text/plain": [
       "(0.9318230572884952, 0.9306048476358624)"
      ]
     },
     "execution_count": 96,
     "metadata": {},
     "output_type": "execute_result"
    }
   ],
   "source": [
    "r2_train=r2_score(y_train,y_pred_train)\n",
    "r2_test=r2_score(y_test,y_pred_test)\n",
    "(r2_train,r2_test)"
   ]
  },
  {
   "cell_type": "code",
   "execution_count": 97,
   "metadata": {},
   "outputs": [
    {
     "data": {
      "text/plain": [
       "1.8092025039564794"
      ]
     },
     "execution_count": 97,
     "metadata": {},
     "output_type": "execute_result"
    }
   ],
   "source": [
    "np.sqrt(mean_squared_error(y_train,y_pred_train))"
   ]
  },
  {
   "cell_type": "code",
   "execution_count": 98,
   "metadata": {},
   "outputs": [
    {
     "data": {
      "text/plain": [
       "1.8146137039894434"
      ]
     },
     "execution_count": 98,
     "metadata": {},
     "output_type": "execute_result"
    }
   ],
   "source": [
    "np.sqrt(mean_squared_error(y_test,y_pred_test))"
   ]
  },
  {
   "cell_type": "code",
   "execution_count": null,
   "metadata": {},
   "outputs": [],
   "source": []
  },
  {
   "cell_type": "code",
   "execution_count": null,
   "metadata": {},
   "outputs": [],
   "source": []
  }
 ],
 "metadata": {
  "kernelspec": {
   "display_name": "Python 3",
   "language": "python",
   "name": "python3"
  },
  "language_info": {
   "codemirror_mode": {
    "name": "ipython",
    "version": 3
   },
   "file_extension": ".py",
   "mimetype": "text/x-python",
   "name": "python",
   "nbconvert_exporter": "python",
   "pygments_lexer": "ipython3",
   "version": "3.8.5"
  }
 },
 "nbformat": 4,
 "nbformat_minor": 4
}
